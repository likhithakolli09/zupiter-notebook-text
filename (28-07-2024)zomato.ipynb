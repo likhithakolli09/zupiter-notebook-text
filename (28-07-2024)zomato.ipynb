{
 "cells": [
  {
   "cell_type": "markdown",
   "id": "8994ee92-8e5a-4178-b1ec-6416412688c1",
   "metadata": {},
   "source": [
    "# Zomato EDA - Indian Restaurants "
   ]
  },
  {
   "attachments": {},
   "cell_type": "markdown",
   "id": "9f0f6cfd-04b8-475d-928c-ca4e62f1ad24",
   "metadata": {},
   "source": [
    "<img src=\"zomatoimage.jpeg\" style=\"height:500px; Width:1200px;\">\n",
    "\n",
    "\n",
    "## Introduction\n",
    "\n",
    "This project aims to perform an Exploratory Data Analysis (EDA) on the dataset of Indian restaurants listed on Zomato, a popular online food delivery and restaurant discovery platform. The analysis will provide insights into various aspects of the restaurants, such as their geographical distribution, ratings, cuisines offered, cost for two, and customer reviews. By leveraging data visualization techniques, we aim to uncover patterns and trends that can help restaurant owners, customers, and Zomato itself. The study will also explore factors influencing customer ratings and the popularity of different cuisines across various cities in India. The ultimate goal is to derive meaningful conclusions that can enhance decision-making processes for stakeholders in the food and beverage industry."
   ]
  },
  {
   "cell_type": "code",
   "execution_count": 116,
   "id": "4323991b-c5a2-42b8-8a26-ce4ddebd1ce1",
   "metadata": {},
   "outputs": [
    {
     "name": "stdout",
     "output_type": "stream",
     "text": [
      "Requirement already satisfied: seaborn in d:\\users\\likhitha\\anaconda3\\lib\\site-packages (0.12.2)\n",
      "Requirement already satisfied: numpy!=1.24.0,>=1.17 in d:\\users\\likhitha\\anaconda3\\lib\\site-packages (from seaborn) (1.26.4)\n",
      "Requirement already satisfied: pandas>=0.25 in d:\\users\\likhitha\\anaconda3\\lib\\site-packages (from seaborn) (2.1.4)\n",
      "Requirement already satisfied: matplotlib!=3.6.1,>=3.1 in d:\\users\\likhitha\\anaconda3\\lib\\site-packages (from seaborn) (3.8.0)\n",
      "Requirement already satisfied: contourpy>=1.0.1 in d:\\users\\likhitha\\anaconda3\\lib\\site-packages (from matplotlib!=3.6.1,>=3.1->seaborn) (1.2.0)\n",
      "Requirement already satisfied: cycler>=0.10 in d:\\users\\likhitha\\anaconda3\\lib\\site-packages (from matplotlib!=3.6.1,>=3.1->seaborn) (0.11.0)\n",
      "Requirement already satisfied: fonttools>=4.22.0 in d:\\users\\likhitha\\anaconda3\\lib\\site-packages (from matplotlib!=3.6.1,>=3.1->seaborn) (4.25.0)\n",
      "Requirement already satisfied: kiwisolver>=1.0.1 in d:\\users\\likhitha\\anaconda3\\lib\\site-packages (from matplotlib!=3.6.1,>=3.1->seaborn) (1.4.4)\n",
      "Requirement already satisfied: packaging>=20.0 in d:\\users\\likhitha\\anaconda3\\lib\\site-packages (from matplotlib!=3.6.1,>=3.1->seaborn) (23.1)\n",
      "Requirement already satisfied: pillow>=6.2.0 in d:\\users\\likhitha\\anaconda3\\lib\\site-packages (from matplotlib!=3.6.1,>=3.1->seaborn) (10.2.0)\n",
      "Requirement already satisfied: pyparsing>=2.3.1 in d:\\users\\likhitha\\anaconda3\\lib\\site-packages (from matplotlib!=3.6.1,>=3.1->seaborn) (3.0.9)\n",
      "Requirement already satisfied: python-dateutil>=2.7 in d:\\users\\likhitha\\anaconda3\\lib\\site-packages (from matplotlib!=3.6.1,>=3.1->seaborn) (2.8.2)\n",
      "Requirement already satisfied: pytz>=2020.1 in d:\\users\\likhitha\\anaconda3\\lib\\site-packages (from pandas>=0.25->seaborn) (2023.3.post1)\n",
      "Requirement already satisfied: tzdata>=2022.1 in d:\\users\\likhitha\\anaconda3\\lib\\site-packages (from pandas>=0.25->seaborn) (2023.3)\n",
      "Requirement already satisfied: six>=1.5 in d:\\users\\likhitha\\anaconda3\\lib\\site-packages (from python-dateutil>=2.7->matplotlib!=3.6.1,>=3.1->seaborn) (1.16.0)\n",
      "Note: you may need to restart the kernel to use updated packages.\n"
     ]
    }
   ],
   "source": [
    "pip install seaborn"
   ]
  },
  {
   "cell_type": "code",
   "execution_count": 284,
   "id": "3e7dd680-5025-46e2-ab9d-14dcffdfd571",
   "metadata": {},
   "outputs": [],
   "source": [
    "import pandas as pd\n",
    "import numpy as np\n",
    "import matplotlib.pyplot as plt\n",
    "%matplotlib inline\n",
    "import seaborn as sns"
   ]
  },
  {
   "cell_type": "markdown",
   "id": "5300b986-8a3e-465d-b697-0bd43e19781f",
   "metadata": {},
   "source": [
    "### Reading dataset"
   ]
  },
  {
   "cell_type": "code",
   "execution_count": 287,
   "id": "5b378c0d-7509-4f37-af28-abb6bb8890b3",
   "metadata": {},
   "outputs": [
    {
     "data": {
      "text/html": [
       "<div>\n",
       "<style scoped>\n",
       "    .dataframe tbody tr th:only-of-type {\n",
       "        vertical-align: middle;\n",
       "    }\n",
       "\n",
       "    .dataframe tbody tr th {\n",
       "        vertical-align: top;\n",
       "    }\n",
       "\n",
       "    .dataframe thead th {\n",
       "        text-align: right;\n",
       "    }\n",
       "</style>\n",
       "<table border=\"1\" class=\"dataframe\">\n",
       "  <thead>\n",
       "    <tr style=\"text-align: right;\">\n",
       "      <th></th>\n",
       "      <th>res_id</th>\n",
       "      <th>name</th>\n",
       "      <th>establishment</th>\n",
       "      <th>url</th>\n",
       "      <th>address</th>\n",
       "      <th>city</th>\n",
       "      <th>city_id</th>\n",
       "      <th>locality</th>\n",
       "      <th>latitude</th>\n",
       "      <th>longitude</th>\n",
       "      <th>...</th>\n",
       "      <th>price_range</th>\n",
       "      <th>currency</th>\n",
       "      <th>highlights</th>\n",
       "      <th>aggregate_rating</th>\n",
       "      <th>rating_text</th>\n",
       "      <th>votes</th>\n",
       "      <th>photo_count</th>\n",
       "      <th>opentable_support</th>\n",
       "      <th>delivery</th>\n",
       "      <th>takeaway</th>\n",
       "    </tr>\n",
       "  </thead>\n",
       "  <tbody>\n",
       "    <tr>\n",
       "      <th>0</th>\n",
       "      <td>3400299</td>\n",
       "      <td>Bikanervala</td>\n",
       "      <td>['Quick Bites']</td>\n",
       "      <td>https://www.zomato.com/agra/bikanervala-khanda...</td>\n",
       "      <td>Kalyani Point, Near Tulsi Cinema, Bypass Road,...</td>\n",
       "      <td>Agra</td>\n",
       "      <td>34</td>\n",
       "      <td>Khandari</td>\n",
       "      <td>27.211450</td>\n",
       "      <td>78.002381</td>\n",
       "      <td>...</td>\n",
       "      <td>2</td>\n",
       "      <td>Rs.</td>\n",
       "      <td>['Lunch', 'Takeaway Available', 'Credit Card',...</td>\n",
       "      <td>4.4</td>\n",
       "      <td>Very Good</td>\n",
       "      <td>814</td>\n",
       "      <td>154</td>\n",
       "      <td>0.0</td>\n",
       "      <td>-1</td>\n",
       "      <td>-1</td>\n",
       "    </tr>\n",
       "    <tr>\n",
       "      <th>1</th>\n",
       "      <td>3400005</td>\n",
       "      <td>Mama Chicken Mama Franky House</td>\n",
       "      <td>['Quick Bites']</td>\n",
       "      <td>https://www.zomato.com/agra/mama-chicken-mama-...</td>\n",
       "      <td>Main Market, Sadar Bazaar, Agra Cantt, Agra</td>\n",
       "      <td>Agra</td>\n",
       "      <td>34</td>\n",
       "      <td>Agra Cantt</td>\n",
       "      <td>27.160569</td>\n",
       "      <td>78.011583</td>\n",
       "      <td>...</td>\n",
       "      <td>2</td>\n",
       "      <td>Rs.</td>\n",
       "      <td>['Delivery', 'No Alcohol Available', 'Dinner',...</td>\n",
       "      <td>4.4</td>\n",
       "      <td>Very Good</td>\n",
       "      <td>1203</td>\n",
       "      <td>161</td>\n",
       "      <td>0.0</td>\n",
       "      <td>-1</td>\n",
       "      <td>-1</td>\n",
       "    </tr>\n",
       "    <tr>\n",
       "      <th>2</th>\n",
       "      <td>3401013</td>\n",
       "      <td>Bhagat Halwai</td>\n",
       "      <td>['Quick Bites']</td>\n",
       "      <td>https://www.zomato.com/agra/bhagat-halwai-2-sh...</td>\n",
       "      <td>62/1, Near Easy Day, West Shivaji Nagar, Goalp...</td>\n",
       "      <td>Agra</td>\n",
       "      <td>34</td>\n",
       "      <td>Shahganj</td>\n",
       "      <td>27.182938</td>\n",
       "      <td>77.979684</td>\n",
       "      <td>...</td>\n",
       "      <td>1</td>\n",
       "      <td>Rs.</td>\n",
       "      <td>['No Alcohol Available', 'Dinner', 'Takeaway A...</td>\n",
       "      <td>4.2</td>\n",
       "      <td>Very Good</td>\n",
       "      <td>801</td>\n",
       "      <td>107</td>\n",
       "      <td>0.0</td>\n",
       "      <td>1</td>\n",
       "      <td>-1</td>\n",
       "    </tr>\n",
       "    <tr>\n",
       "      <th>3</th>\n",
       "      <td>3400290</td>\n",
       "      <td>Bhagat Halwai</td>\n",
       "      <td>['Quick Bites']</td>\n",
       "      <td>https://www.zomato.com/agra/bhagat-halwai-civi...</td>\n",
       "      <td>Near Anjana Cinema, Nehru Nagar, Civil Lines, ...</td>\n",
       "      <td>Agra</td>\n",
       "      <td>34</td>\n",
       "      <td>Civil Lines</td>\n",
       "      <td>27.205668</td>\n",
       "      <td>78.004799</td>\n",
       "      <td>...</td>\n",
       "      <td>1</td>\n",
       "      <td>Rs.</td>\n",
       "      <td>['Takeaway Available', 'Credit Card', 'Lunch',...</td>\n",
       "      <td>4.3</td>\n",
       "      <td>Very Good</td>\n",
       "      <td>693</td>\n",
       "      <td>157</td>\n",
       "      <td>0.0</td>\n",
       "      <td>1</td>\n",
       "      <td>-1</td>\n",
       "    </tr>\n",
       "    <tr>\n",
       "      <th>4</th>\n",
       "      <td>3401744</td>\n",
       "      <td>The Salt Cafe Kitchen &amp; Bar</td>\n",
       "      <td>['Casual Dining']</td>\n",
       "      <td>https://www.zomato.com/agra/the-salt-cafe-kitc...</td>\n",
       "      <td>1C,3rd Floor, Fatehabad Road, Tajganj, Agra</td>\n",
       "      <td>Agra</td>\n",
       "      <td>34</td>\n",
       "      <td>Tajganj</td>\n",
       "      <td>27.157709</td>\n",
       "      <td>78.052421</td>\n",
       "      <td>...</td>\n",
       "      <td>3</td>\n",
       "      <td>Rs.</td>\n",
       "      <td>['Lunch', 'Serves Alcohol', 'Cash', 'Credit Ca...</td>\n",
       "      <td>4.9</td>\n",
       "      <td>Excellent</td>\n",
       "      <td>470</td>\n",
       "      <td>291</td>\n",
       "      <td>0.0</td>\n",
       "      <td>1</td>\n",
       "      <td>-1</td>\n",
       "    </tr>\n",
       "    <tr>\n",
       "      <th>...</th>\n",
       "      <td>...</td>\n",
       "      <td>...</td>\n",
       "      <td>...</td>\n",
       "      <td>...</td>\n",
       "      <td>...</td>\n",
       "      <td>...</td>\n",
       "      <td>...</td>\n",
       "      <td>...</td>\n",
       "      <td>...</td>\n",
       "      <td>...</td>\n",
       "      <td>...</td>\n",
       "      <td>...</td>\n",
       "      <td>...</td>\n",
       "      <td>...</td>\n",
       "      <td>...</td>\n",
       "      <td>...</td>\n",
       "      <td>...</td>\n",
       "      <td>...</td>\n",
       "      <td>...</td>\n",
       "      <td>...</td>\n",
       "      <td>...</td>\n",
       "    </tr>\n",
       "    <tr>\n",
       "      <th>211939</th>\n",
       "      <td>3202251</td>\n",
       "      <td>Kali Mirch Cafe And Restaurant</td>\n",
       "      <td>['Casual Dining']</td>\n",
       "      <td>https://www.zomato.com/vadodara/kali-mirch-caf...</td>\n",
       "      <td>Manu Smriti Complex, Near Navrachna School, GI...</td>\n",
       "      <td>Vadodara</td>\n",
       "      <td>32</td>\n",
       "      <td>Fatehgunj</td>\n",
       "      <td>22.336931</td>\n",
       "      <td>73.192356</td>\n",
       "      <td>...</td>\n",
       "      <td>2</td>\n",
       "      <td>Rs.</td>\n",
       "      <td>['Dinner', 'Cash', 'Lunch', 'Delivery', 'Indoo...</td>\n",
       "      <td>4.1</td>\n",
       "      <td>Very Good</td>\n",
       "      <td>243</td>\n",
       "      <td>40</td>\n",
       "      <td>0.0</td>\n",
       "      <td>-1</td>\n",
       "      <td>-1</td>\n",
       "    </tr>\n",
       "    <tr>\n",
       "      <th>211940</th>\n",
       "      <td>3200996</td>\n",
       "      <td>Raju Omlet</td>\n",
       "      <td>['Quick Bites']</td>\n",
       "      <td>https://www.zomato.com/vadodara/raju-omlet-kar...</td>\n",
       "      <td>Mahalaxmi Apartment, Opposite B O B, Karoli Ba...</td>\n",
       "      <td>Vadodara</td>\n",
       "      <td>32</td>\n",
       "      <td>Karelibaug</td>\n",
       "      <td>22.322455</td>\n",
       "      <td>73.197203</td>\n",
       "      <td>...</td>\n",
       "      <td>1</td>\n",
       "      <td>Rs.</td>\n",
       "      <td>['Dinner', 'Cash', 'Takeaway Available', 'Debi...</td>\n",
       "      <td>4.1</td>\n",
       "      <td>Very Good</td>\n",
       "      <td>187</td>\n",
       "      <td>40</td>\n",
       "      <td>0.0</td>\n",
       "      <td>1</td>\n",
       "      <td>-1</td>\n",
       "    </tr>\n",
       "    <tr>\n",
       "      <th>211941</th>\n",
       "      <td>18984164</td>\n",
       "      <td>The Grand Thakar</td>\n",
       "      <td>['Casual Dining']</td>\n",
       "      <td>https://www.zomato.com/vadodara/the-grand-thak...</td>\n",
       "      <td>3rd Floor, Shreem Shalini Mall, Opposite Conqu...</td>\n",
       "      <td>Vadodara</td>\n",
       "      <td>32</td>\n",
       "      <td>Alkapuri</td>\n",
       "      <td>22.310563</td>\n",
       "      <td>73.171164</td>\n",
       "      <td>...</td>\n",
       "      <td>2</td>\n",
       "      <td>Rs.</td>\n",
       "      <td>['Dinner', 'Cash', 'Debit Card', 'Lunch', 'Tak...</td>\n",
       "      <td>4.0</td>\n",
       "      <td>Very Good</td>\n",
       "      <td>111</td>\n",
       "      <td>38</td>\n",
       "      <td>0.0</td>\n",
       "      <td>-1</td>\n",
       "      <td>-1</td>\n",
       "    </tr>\n",
       "    <tr>\n",
       "      <th>211942</th>\n",
       "      <td>3201138</td>\n",
       "      <td>Subway</td>\n",
       "      <td>['Quick Bites']</td>\n",
       "      <td>https://www.zomato.com/vadodara/subway-1-akota...</td>\n",
       "      <td>G-2, Vedant Platina, Near Cosmos, Akota, Vadodara</td>\n",
       "      <td>Vadodara</td>\n",
       "      <td>32</td>\n",
       "      <td>Akota</td>\n",
       "      <td>22.270027</td>\n",
       "      <td>73.143068</td>\n",
       "      <td>...</td>\n",
       "      <td>2</td>\n",
       "      <td>Rs.</td>\n",
       "      <td>['Dinner', 'Delivery', 'Credit Card', 'Lunch',...</td>\n",
       "      <td>3.7</td>\n",
       "      <td>Good</td>\n",
       "      <td>128</td>\n",
       "      <td>34</td>\n",
       "      <td>0.0</td>\n",
       "      <td>1</td>\n",
       "      <td>-1</td>\n",
       "    </tr>\n",
       "    <tr>\n",
       "      <th>211943</th>\n",
       "      <td>18879846</td>\n",
       "      <td>Freshco's - The Health Cafe</td>\n",
       "      <td>['CafÃ©']</td>\n",
       "      <td>https://www.zomato.com/vadodara/freshcos-the-h...</td>\n",
       "      <td>Shop 7, Ground Floor, Opposite Natubhai Circle...</td>\n",
       "      <td>Vadodara</td>\n",
       "      <td>32</td>\n",
       "      <td>Vadiwadi</td>\n",
       "      <td>22.309935</td>\n",
       "      <td>73.158768</td>\n",
       "      <td>...</td>\n",
       "      <td>2</td>\n",
       "      <td>Rs.</td>\n",
       "      <td>['Dinner', 'Cash', 'Takeaway Available', 'Debi...</td>\n",
       "      <td>4.0</td>\n",
       "      <td>Very Good</td>\n",
       "      <td>93</td>\n",
       "      <td>53</td>\n",
       "      <td>0.0</td>\n",
       "      <td>1</td>\n",
       "      <td>-1</td>\n",
       "    </tr>\n",
       "  </tbody>\n",
       "</table>\n",
       "<p>211944 rows × 26 columns</p>\n",
       "</div>"
      ],
      "text/plain": [
       "          res_id                            name      establishment  \\\n",
       "0        3400299                     Bikanervala    ['Quick Bites']   \n",
       "1        3400005  Mama Chicken Mama Franky House    ['Quick Bites']   \n",
       "2        3401013                   Bhagat Halwai    ['Quick Bites']   \n",
       "3        3400290                   Bhagat Halwai    ['Quick Bites']   \n",
       "4        3401744     The Salt Cafe Kitchen & Bar  ['Casual Dining']   \n",
       "...          ...                             ...                ...   \n",
       "211939   3202251  Kali Mirch Cafe And Restaurant  ['Casual Dining']   \n",
       "211940   3200996                      Raju Omlet    ['Quick Bites']   \n",
       "211941  18984164                The Grand Thakar  ['Casual Dining']   \n",
       "211942   3201138                          Subway    ['Quick Bites']   \n",
       "211943  18879846     Freshco's - The Health Cafe          ['CafÃ©']   \n",
       "\n",
       "                                                      url  \\\n",
       "0       https://www.zomato.com/agra/bikanervala-khanda...   \n",
       "1       https://www.zomato.com/agra/mama-chicken-mama-...   \n",
       "2       https://www.zomato.com/agra/bhagat-halwai-2-sh...   \n",
       "3       https://www.zomato.com/agra/bhagat-halwai-civi...   \n",
       "4       https://www.zomato.com/agra/the-salt-cafe-kitc...   \n",
       "...                                                   ...   \n",
       "211939  https://www.zomato.com/vadodara/kali-mirch-caf...   \n",
       "211940  https://www.zomato.com/vadodara/raju-omlet-kar...   \n",
       "211941  https://www.zomato.com/vadodara/the-grand-thak...   \n",
       "211942  https://www.zomato.com/vadodara/subway-1-akota...   \n",
       "211943  https://www.zomato.com/vadodara/freshcos-the-h...   \n",
       "\n",
       "                                                  address      city  city_id  \\\n",
       "0       Kalyani Point, Near Tulsi Cinema, Bypass Road,...      Agra       34   \n",
       "1             Main Market, Sadar Bazaar, Agra Cantt, Agra      Agra       34   \n",
       "2       62/1, Near Easy Day, West Shivaji Nagar, Goalp...      Agra       34   \n",
       "3       Near Anjana Cinema, Nehru Nagar, Civil Lines, ...      Agra       34   \n",
       "4             1C,3rd Floor, Fatehabad Road, Tajganj, Agra      Agra       34   \n",
       "...                                                   ...       ...      ...   \n",
       "211939  Manu Smriti Complex, Near Navrachna School, GI...  Vadodara       32   \n",
       "211940  Mahalaxmi Apartment, Opposite B O B, Karoli Ba...  Vadodara       32   \n",
       "211941  3rd Floor, Shreem Shalini Mall, Opposite Conqu...  Vadodara       32   \n",
       "211942  G-2, Vedant Platina, Near Cosmos, Akota, Vadodara  Vadodara       32   \n",
       "211943  Shop 7, Ground Floor, Opposite Natubhai Circle...  Vadodara       32   \n",
       "\n",
       "           locality   latitude  longitude  ... price_range  currency  \\\n",
       "0          Khandari  27.211450  78.002381  ...           2       Rs.   \n",
       "1        Agra Cantt  27.160569  78.011583  ...           2       Rs.   \n",
       "2          Shahganj  27.182938  77.979684  ...           1       Rs.   \n",
       "3       Civil Lines  27.205668  78.004799  ...           1       Rs.   \n",
       "4           Tajganj  27.157709  78.052421  ...           3       Rs.   \n",
       "...             ...        ...        ...  ...         ...       ...   \n",
       "211939    Fatehgunj  22.336931  73.192356  ...           2       Rs.   \n",
       "211940   Karelibaug  22.322455  73.197203  ...           1       Rs.   \n",
       "211941     Alkapuri  22.310563  73.171164  ...           2       Rs.   \n",
       "211942        Akota  22.270027  73.143068  ...           2       Rs.   \n",
       "211943     Vadiwadi  22.309935  73.158768  ...           2       Rs.   \n",
       "\n",
       "                                               highlights aggregate_rating  \\\n",
       "0       ['Lunch', 'Takeaway Available', 'Credit Card',...              4.4   \n",
       "1       ['Delivery', 'No Alcohol Available', 'Dinner',...              4.4   \n",
       "2       ['No Alcohol Available', 'Dinner', 'Takeaway A...              4.2   \n",
       "3       ['Takeaway Available', 'Credit Card', 'Lunch',...              4.3   \n",
       "4       ['Lunch', 'Serves Alcohol', 'Cash', 'Credit Ca...              4.9   \n",
       "...                                                   ...              ...   \n",
       "211939  ['Dinner', 'Cash', 'Lunch', 'Delivery', 'Indoo...              4.1   \n",
       "211940  ['Dinner', 'Cash', 'Takeaway Available', 'Debi...              4.1   \n",
       "211941  ['Dinner', 'Cash', 'Debit Card', 'Lunch', 'Tak...              4.0   \n",
       "211942  ['Dinner', 'Delivery', 'Credit Card', 'Lunch',...              3.7   \n",
       "211943  ['Dinner', 'Cash', 'Takeaway Available', 'Debi...              4.0   \n",
       "\n",
       "       rating_text  votes  photo_count opentable_support delivery  takeaway  \n",
       "0        Very Good    814          154               0.0       -1        -1  \n",
       "1        Very Good   1203          161               0.0       -1        -1  \n",
       "2        Very Good    801          107               0.0        1        -1  \n",
       "3        Very Good    693          157               0.0        1        -1  \n",
       "4        Excellent    470          291               0.0        1        -1  \n",
       "...            ...    ...          ...               ...      ...       ...  \n",
       "211939   Very Good    243           40               0.0       -1        -1  \n",
       "211940   Very Good    187           40               0.0        1        -1  \n",
       "211941   Very Good    111           38               0.0       -1        -1  \n",
       "211942        Good    128           34               0.0        1        -1  \n",
       "211943   Very Good     93           53               0.0        1        -1  \n",
       "\n",
       "[211944 rows x 26 columns]"
      ]
     },
     "execution_count": 287,
     "metadata": {},
     "output_type": "execute_result"
    }
   ],
   "source": [
    "data = pd.read_csv(\"zomato.csv\")\n",
    "data"
   ]
  },
  {
   "cell_type": "markdown",
   "id": "7cb1c3a6-4698-408c-90e9-ed8f7bf45260",
   "metadata": {},
   "source": [
    "### Applying some basic functions to get details of the dataset"
   ]
  },
  {
   "cell_type": "code",
   "execution_count": 289,
   "id": "cb9a6bae-2609-4ca8-a00e-6071b3f08059",
   "metadata": {},
   "outputs": [
    {
     "data": {
      "text/html": [
       "<div>\n",
       "<style scoped>\n",
       "    .dataframe tbody tr th:only-of-type {\n",
       "        vertical-align: middle;\n",
       "    }\n",
       "\n",
       "    .dataframe tbody tr th {\n",
       "        vertical-align: top;\n",
       "    }\n",
       "\n",
       "    .dataframe thead th {\n",
       "        text-align: right;\n",
       "    }\n",
       "</style>\n",
       "<table border=\"1\" class=\"dataframe\">\n",
       "  <thead>\n",
       "    <tr style=\"text-align: right;\">\n",
       "      <th></th>\n",
       "      <th>res_id</th>\n",
       "      <th>name</th>\n",
       "      <th>establishment</th>\n",
       "      <th>url</th>\n",
       "      <th>address</th>\n",
       "      <th>city</th>\n",
       "      <th>city_id</th>\n",
       "      <th>locality</th>\n",
       "      <th>latitude</th>\n",
       "      <th>longitude</th>\n",
       "      <th>...</th>\n",
       "      <th>price_range</th>\n",
       "      <th>currency</th>\n",
       "      <th>highlights</th>\n",
       "      <th>aggregate_rating</th>\n",
       "      <th>rating_text</th>\n",
       "      <th>votes</th>\n",
       "      <th>photo_count</th>\n",
       "      <th>opentable_support</th>\n",
       "      <th>delivery</th>\n",
       "      <th>takeaway</th>\n",
       "    </tr>\n",
       "  </thead>\n",
       "  <tbody>\n",
       "    <tr>\n",
       "      <th>0</th>\n",
       "      <td>3400299</td>\n",
       "      <td>Bikanervala</td>\n",
       "      <td>['Quick Bites']</td>\n",
       "      <td>https://www.zomato.com/agra/bikanervala-khanda...</td>\n",
       "      <td>Kalyani Point, Near Tulsi Cinema, Bypass Road,...</td>\n",
       "      <td>Agra</td>\n",
       "      <td>34</td>\n",
       "      <td>Khandari</td>\n",
       "      <td>27.211450</td>\n",
       "      <td>78.002381</td>\n",
       "      <td>...</td>\n",
       "      <td>2</td>\n",
       "      <td>Rs.</td>\n",
       "      <td>['Lunch', 'Takeaway Available', 'Credit Card',...</td>\n",
       "      <td>4.4</td>\n",
       "      <td>Very Good</td>\n",
       "      <td>814</td>\n",
       "      <td>154</td>\n",
       "      <td>0.0</td>\n",
       "      <td>-1</td>\n",
       "      <td>-1</td>\n",
       "    </tr>\n",
       "    <tr>\n",
       "      <th>1</th>\n",
       "      <td>3400005</td>\n",
       "      <td>Mama Chicken Mama Franky House</td>\n",
       "      <td>['Quick Bites']</td>\n",
       "      <td>https://www.zomato.com/agra/mama-chicken-mama-...</td>\n",
       "      <td>Main Market, Sadar Bazaar, Agra Cantt, Agra</td>\n",
       "      <td>Agra</td>\n",
       "      <td>34</td>\n",
       "      <td>Agra Cantt</td>\n",
       "      <td>27.160569</td>\n",
       "      <td>78.011583</td>\n",
       "      <td>...</td>\n",
       "      <td>2</td>\n",
       "      <td>Rs.</td>\n",
       "      <td>['Delivery', 'No Alcohol Available', 'Dinner',...</td>\n",
       "      <td>4.4</td>\n",
       "      <td>Very Good</td>\n",
       "      <td>1203</td>\n",
       "      <td>161</td>\n",
       "      <td>0.0</td>\n",
       "      <td>-1</td>\n",
       "      <td>-1</td>\n",
       "    </tr>\n",
       "    <tr>\n",
       "      <th>2</th>\n",
       "      <td>3401013</td>\n",
       "      <td>Bhagat Halwai</td>\n",
       "      <td>['Quick Bites']</td>\n",
       "      <td>https://www.zomato.com/agra/bhagat-halwai-2-sh...</td>\n",
       "      <td>62/1, Near Easy Day, West Shivaji Nagar, Goalp...</td>\n",
       "      <td>Agra</td>\n",
       "      <td>34</td>\n",
       "      <td>Shahganj</td>\n",
       "      <td>27.182938</td>\n",
       "      <td>77.979684</td>\n",
       "      <td>...</td>\n",
       "      <td>1</td>\n",
       "      <td>Rs.</td>\n",
       "      <td>['No Alcohol Available', 'Dinner', 'Takeaway A...</td>\n",
       "      <td>4.2</td>\n",
       "      <td>Very Good</td>\n",
       "      <td>801</td>\n",
       "      <td>107</td>\n",
       "      <td>0.0</td>\n",
       "      <td>1</td>\n",
       "      <td>-1</td>\n",
       "    </tr>\n",
       "    <tr>\n",
       "      <th>3</th>\n",
       "      <td>3400290</td>\n",
       "      <td>Bhagat Halwai</td>\n",
       "      <td>['Quick Bites']</td>\n",
       "      <td>https://www.zomato.com/agra/bhagat-halwai-civi...</td>\n",
       "      <td>Near Anjana Cinema, Nehru Nagar, Civil Lines, ...</td>\n",
       "      <td>Agra</td>\n",
       "      <td>34</td>\n",
       "      <td>Civil Lines</td>\n",
       "      <td>27.205668</td>\n",
       "      <td>78.004799</td>\n",
       "      <td>...</td>\n",
       "      <td>1</td>\n",
       "      <td>Rs.</td>\n",
       "      <td>['Takeaway Available', 'Credit Card', 'Lunch',...</td>\n",
       "      <td>4.3</td>\n",
       "      <td>Very Good</td>\n",
       "      <td>693</td>\n",
       "      <td>157</td>\n",
       "      <td>0.0</td>\n",
       "      <td>1</td>\n",
       "      <td>-1</td>\n",
       "    </tr>\n",
       "    <tr>\n",
       "      <th>4</th>\n",
       "      <td>3401744</td>\n",
       "      <td>The Salt Cafe Kitchen &amp; Bar</td>\n",
       "      <td>['Casual Dining']</td>\n",
       "      <td>https://www.zomato.com/agra/the-salt-cafe-kitc...</td>\n",
       "      <td>1C,3rd Floor, Fatehabad Road, Tajganj, Agra</td>\n",
       "      <td>Agra</td>\n",
       "      <td>34</td>\n",
       "      <td>Tajganj</td>\n",
       "      <td>27.157709</td>\n",
       "      <td>78.052421</td>\n",
       "      <td>...</td>\n",
       "      <td>3</td>\n",
       "      <td>Rs.</td>\n",
       "      <td>['Lunch', 'Serves Alcohol', 'Cash', 'Credit Ca...</td>\n",
       "      <td>4.9</td>\n",
       "      <td>Excellent</td>\n",
       "      <td>470</td>\n",
       "      <td>291</td>\n",
       "      <td>0.0</td>\n",
       "      <td>1</td>\n",
       "      <td>-1</td>\n",
       "    </tr>\n",
       "  </tbody>\n",
       "</table>\n",
       "<p>5 rows × 26 columns</p>\n",
       "</div>"
      ],
      "text/plain": [
       "    res_id                            name      establishment  \\\n",
       "0  3400299                     Bikanervala    ['Quick Bites']   \n",
       "1  3400005  Mama Chicken Mama Franky House    ['Quick Bites']   \n",
       "2  3401013                   Bhagat Halwai    ['Quick Bites']   \n",
       "3  3400290                   Bhagat Halwai    ['Quick Bites']   \n",
       "4  3401744     The Salt Cafe Kitchen & Bar  ['Casual Dining']   \n",
       "\n",
       "                                                 url  \\\n",
       "0  https://www.zomato.com/agra/bikanervala-khanda...   \n",
       "1  https://www.zomato.com/agra/mama-chicken-mama-...   \n",
       "2  https://www.zomato.com/agra/bhagat-halwai-2-sh...   \n",
       "3  https://www.zomato.com/agra/bhagat-halwai-civi...   \n",
       "4  https://www.zomato.com/agra/the-salt-cafe-kitc...   \n",
       "\n",
       "                                             address  city  city_id  \\\n",
       "0  Kalyani Point, Near Tulsi Cinema, Bypass Road,...  Agra       34   \n",
       "1        Main Market, Sadar Bazaar, Agra Cantt, Agra  Agra       34   \n",
       "2  62/1, Near Easy Day, West Shivaji Nagar, Goalp...  Agra       34   \n",
       "3  Near Anjana Cinema, Nehru Nagar, Civil Lines, ...  Agra       34   \n",
       "4        1C,3rd Floor, Fatehabad Road, Tajganj, Agra  Agra       34   \n",
       "\n",
       "      locality   latitude  longitude  ... price_range  currency  \\\n",
       "0     Khandari  27.211450  78.002381  ...           2       Rs.   \n",
       "1   Agra Cantt  27.160569  78.011583  ...           2       Rs.   \n",
       "2     Shahganj  27.182938  77.979684  ...           1       Rs.   \n",
       "3  Civil Lines  27.205668  78.004799  ...           1       Rs.   \n",
       "4      Tajganj  27.157709  78.052421  ...           3       Rs.   \n",
       "\n",
       "                                          highlights aggregate_rating  \\\n",
       "0  ['Lunch', 'Takeaway Available', 'Credit Card',...              4.4   \n",
       "1  ['Delivery', 'No Alcohol Available', 'Dinner',...              4.4   \n",
       "2  ['No Alcohol Available', 'Dinner', 'Takeaway A...              4.2   \n",
       "3  ['Takeaway Available', 'Credit Card', 'Lunch',...              4.3   \n",
       "4  ['Lunch', 'Serves Alcohol', 'Cash', 'Credit Ca...              4.9   \n",
       "\n",
       "  rating_text  votes  photo_count opentable_support delivery  takeaway  \n",
       "0   Very Good    814          154               0.0       -1        -1  \n",
       "1   Very Good   1203          161               0.0       -1        -1  \n",
       "2   Very Good    801          107               0.0        1        -1  \n",
       "3   Very Good    693          157               0.0        1        -1  \n",
       "4   Excellent    470          291               0.0        1        -1  \n",
       "\n",
       "[5 rows x 26 columns]"
      ]
     },
     "execution_count": 289,
     "metadata": {},
     "output_type": "execute_result"
    }
   ],
   "source": [
    "data.head(5)"
   ]
  },
  {
   "cell_type": "code",
   "execution_count": 292,
   "id": "289dea94-07d4-4812-b7ec-b2cab153e132",
   "metadata": {},
   "outputs": [
    {
     "data": {
      "text/html": [
       "<div>\n",
       "<style scoped>\n",
       "    .dataframe tbody tr th:only-of-type {\n",
       "        vertical-align: middle;\n",
       "    }\n",
       "\n",
       "    .dataframe tbody tr th {\n",
       "        vertical-align: top;\n",
       "    }\n",
       "\n",
       "    .dataframe thead th {\n",
       "        text-align: right;\n",
       "    }\n",
       "</style>\n",
       "<table border=\"1\" class=\"dataframe\">\n",
       "  <thead>\n",
       "    <tr style=\"text-align: right;\">\n",
       "      <th></th>\n",
       "      <th>res_id</th>\n",
       "      <th>name</th>\n",
       "      <th>establishment</th>\n",
       "      <th>url</th>\n",
       "      <th>address</th>\n",
       "      <th>city</th>\n",
       "      <th>city_id</th>\n",
       "      <th>locality</th>\n",
       "      <th>latitude</th>\n",
       "      <th>longitude</th>\n",
       "      <th>...</th>\n",
       "      <th>price_range</th>\n",
       "      <th>currency</th>\n",
       "      <th>highlights</th>\n",
       "      <th>aggregate_rating</th>\n",
       "      <th>rating_text</th>\n",
       "      <th>votes</th>\n",
       "      <th>photo_count</th>\n",
       "      <th>opentable_support</th>\n",
       "      <th>delivery</th>\n",
       "      <th>takeaway</th>\n",
       "    </tr>\n",
       "  </thead>\n",
       "  <tbody>\n",
       "    <tr>\n",
       "      <th>211939</th>\n",
       "      <td>3202251</td>\n",
       "      <td>Kali Mirch Cafe And Restaurant</td>\n",
       "      <td>['Casual Dining']</td>\n",
       "      <td>https://www.zomato.com/vadodara/kali-mirch-caf...</td>\n",
       "      <td>Manu Smriti Complex, Near Navrachna School, GI...</td>\n",
       "      <td>Vadodara</td>\n",
       "      <td>32</td>\n",
       "      <td>Fatehgunj</td>\n",
       "      <td>22.336931</td>\n",
       "      <td>73.192356</td>\n",
       "      <td>...</td>\n",
       "      <td>2</td>\n",
       "      <td>Rs.</td>\n",
       "      <td>['Dinner', 'Cash', 'Lunch', 'Delivery', 'Indoo...</td>\n",
       "      <td>4.1</td>\n",
       "      <td>Very Good</td>\n",
       "      <td>243</td>\n",
       "      <td>40</td>\n",
       "      <td>0.0</td>\n",
       "      <td>-1</td>\n",
       "      <td>-1</td>\n",
       "    </tr>\n",
       "    <tr>\n",
       "      <th>211940</th>\n",
       "      <td>3200996</td>\n",
       "      <td>Raju Omlet</td>\n",
       "      <td>['Quick Bites']</td>\n",
       "      <td>https://www.zomato.com/vadodara/raju-omlet-kar...</td>\n",
       "      <td>Mahalaxmi Apartment, Opposite B O B, Karoli Ba...</td>\n",
       "      <td>Vadodara</td>\n",
       "      <td>32</td>\n",
       "      <td>Karelibaug</td>\n",
       "      <td>22.322455</td>\n",
       "      <td>73.197203</td>\n",
       "      <td>...</td>\n",
       "      <td>1</td>\n",
       "      <td>Rs.</td>\n",
       "      <td>['Dinner', 'Cash', 'Takeaway Available', 'Debi...</td>\n",
       "      <td>4.1</td>\n",
       "      <td>Very Good</td>\n",
       "      <td>187</td>\n",
       "      <td>40</td>\n",
       "      <td>0.0</td>\n",
       "      <td>1</td>\n",
       "      <td>-1</td>\n",
       "    </tr>\n",
       "    <tr>\n",
       "      <th>211941</th>\n",
       "      <td>18984164</td>\n",
       "      <td>The Grand Thakar</td>\n",
       "      <td>['Casual Dining']</td>\n",
       "      <td>https://www.zomato.com/vadodara/the-grand-thak...</td>\n",
       "      <td>3rd Floor, Shreem Shalini Mall, Opposite Conqu...</td>\n",
       "      <td>Vadodara</td>\n",
       "      <td>32</td>\n",
       "      <td>Alkapuri</td>\n",
       "      <td>22.310563</td>\n",
       "      <td>73.171164</td>\n",
       "      <td>...</td>\n",
       "      <td>2</td>\n",
       "      <td>Rs.</td>\n",
       "      <td>['Dinner', 'Cash', 'Debit Card', 'Lunch', 'Tak...</td>\n",
       "      <td>4.0</td>\n",
       "      <td>Very Good</td>\n",
       "      <td>111</td>\n",
       "      <td>38</td>\n",
       "      <td>0.0</td>\n",
       "      <td>-1</td>\n",
       "      <td>-1</td>\n",
       "    </tr>\n",
       "    <tr>\n",
       "      <th>211942</th>\n",
       "      <td>3201138</td>\n",
       "      <td>Subway</td>\n",
       "      <td>['Quick Bites']</td>\n",
       "      <td>https://www.zomato.com/vadodara/subway-1-akota...</td>\n",
       "      <td>G-2, Vedant Platina, Near Cosmos, Akota, Vadodara</td>\n",
       "      <td>Vadodara</td>\n",
       "      <td>32</td>\n",
       "      <td>Akota</td>\n",
       "      <td>22.270027</td>\n",
       "      <td>73.143068</td>\n",
       "      <td>...</td>\n",
       "      <td>2</td>\n",
       "      <td>Rs.</td>\n",
       "      <td>['Dinner', 'Delivery', 'Credit Card', 'Lunch',...</td>\n",
       "      <td>3.7</td>\n",
       "      <td>Good</td>\n",
       "      <td>128</td>\n",
       "      <td>34</td>\n",
       "      <td>0.0</td>\n",
       "      <td>1</td>\n",
       "      <td>-1</td>\n",
       "    </tr>\n",
       "    <tr>\n",
       "      <th>211943</th>\n",
       "      <td>18879846</td>\n",
       "      <td>Freshco's - The Health Cafe</td>\n",
       "      <td>['CafÃ©']</td>\n",
       "      <td>https://www.zomato.com/vadodara/freshcos-the-h...</td>\n",
       "      <td>Shop 7, Ground Floor, Opposite Natubhai Circle...</td>\n",
       "      <td>Vadodara</td>\n",
       "      <td>32</td>\n",
       "      <td>Vadiwadi</td>\n",
       "      <td>22.309935</td>\n",
       "      <td>73.158768</td>\n",
       "      <td>...</td>\n",
       "      <td>2</td>\n",
       "      <td>Rs.</td>\n",
       "      <td>['Dinner', 'Cash', 'Takeaway Available', 'Debi...</td>\n",
       "      <td>4.0</td>\n",
       "      <td>Very Good</td>\n",
       "      <td>93</td>\n",
       "      <td>53</td>\n",
       "      <td>0.0</td>\n",
       "      <td>1</td>\n",
       "      <td>-1</td>\n",
       "    </tr>\n",
       "  </tbody>\n",
       "</table>\n",
       "<p>5 rows × 26 columns</p>\n",
       "</div>"
      ],
      "text/plain": [
       "          res_id                            name      establishment  \\\n",
       "211939   3202251  Kali Mirch Cafe And Restaurant  ['Casual Dining']   \n",
       "211940   3200996                      Raju Omlet    ['Quick Bites']   \n",
       "211941  18984164                The Grand Thakar  ['Casual Dining']   \n",
       "211942   3201138                          Subway    ['Quick Bites']   \n",
       "211943  18879846     Freshco's - The Health Cafe          ['CafÃ©']   \n",
       "\n",
       "                                                      url  \\\n",
       "211939  https://www.zomato.com/vadodara/kali-mirch-caf...   \n",
       "211940  https://www.zomato.com/vadodara/raju-omlet-kar...   \n",
       "211941  https://www.zomato.com/vadodara/the-grand-thak...   \n",
       "211942  https://www.zomato.com/vadodara/subway-1-akota...   \n",
       "211943  https://www.zomato.com/vadodara/freshcos-the-h...   \n",
       "\n",
       "                                                  address      city  city_id  \\\n",
       "211939  Manu Smriti Complex, Near Navrachna School, GI...  Vadodara       32   \n",
       "211940  Mahalaxmi Apartment, Opposite B O B, Karoli Ba...  Vadodara       32   \n",
       "211941  3rd Floor, Shreem Shalini Mall, Opposite Conqu...  Vadodara       32   \n",
       "211942  G-2, Vedant Platina, Near Cosmos, Akota, Vadodara  Vadodara       32   \n",
       "211943  Shop 7, Ground Floor, Opposite Natubhai Circle...  Vadodara       32   \n",
       "\n",
       "          locality   latitude  longitude  ... price_range  currency  \\\n",
       "211939   Fatehgunj  22.336931  73.192356  ...           2       Rs.   \n",
       "211940  Karelibaug  22.322455  73.197203  ...           1       Rs.   \n",
       "211941    Alkapuri  22.310563  73.171164  ...           2       Rs.   \n",
       "211942       Akota  22.270027  73.143068  ...           2       Rs.   \n",
       "211943    Vadiwadi  22.309935  73.158768  ...           2       Rs.   \n",
       "\n",
       "                                               highlights aggregate_rating  \\\n",
       "211939  ['Dinner', 'Cash', 'Lunch', 'Delivery', 'Indoo...              4.1   \n",
       "211940  ['Dinner', 'Cash', 'Takeaway Available', 'Debi...              4.1   \n",
       "211941  ['Dinner', 'Cash', 'Debit Card', 'Lunch', 'Tak...              4.0   \n",
       "211942  ['Dinner', 'Delivery', 'Credit Card', 'Lunch',...              3.7   \n",
       "211943  ['Dinner', 'Cash', 'Takeaway Available', 'Debi...              4.0   \n",
       "\n",
       "       rating_text  votes  photo_count opentable_support delivery  takeaway  \n",
       "211939   Very Good    243           40               0.0       -1        -1  \n",
       "211940   Very Good    187           40               0.0        1        -1  \n",
       "211941   Very Good    111           38               0.0       -1        -1  \n",
       "211942        Good    128           34               0.0        1        -1  \n",
       "211943   Very Good     93           53               0.0        1        -1  \n",
       "\n",
       "[5 rows x 26 columns]"
      ]
     },
     "execution_count": 292,
     "metadata": {},
     "output_type": "execute_result"
    }
   ],
   "source": [
    "data.tail(5)"
   ]
  },
  {
   "cell_type": "code",
   "execution_count": 294,
   "id": "bf94af6e-c406-4a77-b3fe-1c6f54761710",
   "metadata": {},
   "outputs": [
    {
     "data": {
      "text/plain": [
       "Index(['res_id', 'name', 'establishment', 'url', 'address', 'city', 'city_id',\n",
       "       'locality', 'latitude', 'longitude', 'zipcode', 'country_id',\n",
       "       'locality_verbose', 'cuisines', 'timings', 'average_cost_for_two',\n",
       "       'price_range', 'currency', 'highlights', 'aggregate_rating',\n",
       "       'rating_text', 'votes', 'photo_count', 'opentable_support', 'delivery',\n",
       "       'takeaway'],\n",
       "      dtype='object')"
      ]
     },
     "execution_count": 294,
     "metadata": {},
     "output_type": "execute_result"
    }
   ],
   "source": [
    "# to get column names from dataframe\n",
    "\n",
    "data.columns"
   ]
  },
  {
   "cell_type": "code",
   "execution_count": 296,
   "id": "24dabcbb-ea2a-4faa-8c19-b0a75f3b3533",
   "metadata": {},
   "outputs": [
    {
     "data": {
      "text/plain": [
       "RangeIndex(start=0, stop=211944, step=1)"
      ]
     },
     "execution_count": 296,
     "metadata": {},
     "output_type": "execute_result"
    }
   ],
   "source": [
    "# to get row index\n",
    "\n",
    "data.index"
   ]
  },
  {
   "cell_type": "code",
   "execution_count": 298,
   "id": "93a55953-fe6d-4dbc-b623-d38901addb63",
   "metadata": {},
   "outputs": [
    {
     "data": {
      "text/plain": [
       "array([[3400299, 'Bikanervala', \"['Quick Bites']\", ..., 0.0, -1, -1],\n",
       "       [3400005, 'Mama Chicken Mama Franky House', \"['Quick Bites']\",\n",
       "        ..., 0.0, -1, -1],\n",
       "       [3401013, 'Bhagat Halwai', \"['Quick Bites']\", ..., 0.0, 1, -1],\n",
       "       ...,\n",
       "       [18984164, 'The Grand Thakar', \"['Casual Dining']\", ..., 0.0, -1,\n",
       "        -1],\n",
       "       [3201138, 'Subway', \"['Quick Bites']\", ..., 0.0, 1, -1],\n",
       "       [18879846, \"Freshco's - The Health Cafe\", \"['CafÃ©']\", ..., 0.0,\n",
       "        1, -1]], dtype=object)"
      ]
     },
     "execution_count": 298,
     "metadata": {},
     "output_type": "execute_result"
    }
   ],
   "source": [
    "# to get values from the dataframe\n",
    "\n",
    "data.values"
   ]
  },
  {
   "cell_type": "code",
   "execution_count": 300,
   "id": "965c249a-a6b1-4738-9409-a9a493e8ef5c",
   "metadata": {},
   "outputs": [
    {
     "name": "stdout",
     "output_type": "stream",
     "text": [
      "<class 'pandas.core.frame.DataFrame'>\n",
      "RangeIndex: 211944 entries, 0 to 211943\n",
      "Data columns (total 26 columns):\n",
      " #   Column                Non-Null Count   Dtype  \n",
      "---  ------                --------------   -----  \n",
      " 0   res_id                211944 non-null  int64  \n",
      " 1   name                  211944 non-null  object \n",
      " 2   establishment         211944 non-null  object \n",
      " 3   url                   211944 non-null  object \n",
      " 4   address               211810 non-null  object \n",
      " 5   city                  211944 non-null  object \n",
      " 6   city_id               211944 non-null  int64  \n",
      " 7   locality              211944 non-null  object \n",
      " 8   latitude              211944 non-null  float64\n",
      " 9   longitude             211944 non-null  float64\n",
      " 10  zipcode               48757 non-null   object \n",
      " 11  country_id            211944 non-null  int64  \n",
      " 12  locality_verbose      211944 non-null  object \n",
      " 13  cuisines              210553 non-null  object \n",
      " 14  timings               208070 non-null  object \n",
      " 15  average_cost_for_two  211944 non-null  int64  \n",
      " 16  price_range           211944 non-null  int64  \n",
      " 17  currency              211944 non-null  object \n",
      " 18  highlights            211944 non-null  object \n",
      " 19  aggregate_rating      211944 non-null  float64\n",
      " 20  rating_text           211944 non-null  object \n",
      " 21  votes                 211944 non-null  int64  \n",
      " 22  photo_count           211944 non-null  int64  \n",
      " 23  opentable_support     211896 non-null  float64\n",
      " 24  delivery              211944 non-null  int64  \n",
      " 25  takeaway              211944 non-null  int64  \n",
      "dtypes: float64(4), int64(9), object(13)\n",
      "memory usage: 42.0+ MB\n"
     ]
    }
   ],
   "source": [
    "data.info()"
   ]
  },
  {
   "cell_type": "markdown",
   "id": "f2b58773-7764-4429-869f-26429002dc66",
   "metadata": {},
   "source": [
    "### Data cleanings"
   ]
  },
  {
   "cell_type": "markdown",
   "id": "b744e236-4208-43cc-be59-26fcb54fcb38",
   "metadata": {},
   "source": [
    "### Removing duplicates\n",
    "Its important to remove duplicate rows to avoid biasness in our analysis. \n",
    "\n",
    "Since res_id is unique identifier of our restaurants, we can use it to remove duplicates."
   ]
  },
  {
   "cell_type": "code",
   "execution_count": 304,
   "id": "ac9ab96e-3d72-494b-b61b-b5afe963afb9",
   "metadata": {},
   "outputs": [
    {
     "data": {
      "text/html": [
       "<div>\n",
       "<style scoped>\n",
       "    .dataframe tbody tr th:only-of-type {\n",
       "        vertical-align: middle;\n",
       "    }\n",
       "\n",
       "    .dataframe tbody tr th {\n",
       "        vertical-align: top;\n",
       "    }\n",
       "\n",
       "    .dataframe thead th {\n",
       "        text-align: right;\n",
       "    }\n",
       "</style>\n",
       "<table border=\"1\" class=\"dataframe\">\n",
       "  <thead>\n",
       "    <tr style=\"text-align: right;\">\n",
       "      <th></th>\n",
       "      <th>res_id</th>\n",
       "      <th>name</th>\n",
       "      <th>establishment</th>\n",
       "      <th>url</th>\n",
       "      <th>address</th>\n",
       "      <th>city</th>\n",
       "      <th>city_id</th>\n",
       "      <th>locality</th>\n",
       "      <th>latitude</th>\n",
       "      <th>longitude</th>\n",
       "      <th>...</th>\n",
       "      <th>price_range</th>\n",
       "      <th>currency</th>\n",
       "      <th>highlights</th>\n",
       "      <th>aggregate_rating</th>\n",
       "      <th>rating_text</th>\n",
       "      <th>votes</th>\n",
       "      <th>photo_count</th>\n",
       "      <th>opentable_support</th>\n",
       "      <th>delivery</th>\n",
       "      <th>takeaway</th>\n",
       "    </tr>\n",
       "  </thead>\n",
       "  <tbody>\n",
       "    <tr>\n",
       "      <th>0</th>\n",
       "      <td>3400299</td>\n",
       "      <td>Bikanervala</td>\n",
       "      <td>['Quick Bites']</td>\n",
       "      <td>https://www.zomato.com/agra/bikanervala-khanda...</td>\n",
       "      <td>Kalyani Point, Near Tulsi Cinema, Bypass Road,...</td>\n",
       "      <td>Agra</td>\n",
       "      <td>34</td>\n",
       "      <td>Khandari</td>\n",
       "      <td>27.211450</td>\n",
       "      <td>78.002381</td>\n",
       "      <td>...</td>\n",
       "      <td>2</td>\n",
       "      <td>Rs.</td>\n",
       "      <td>['Lunch', 'Takeaway Available', 'Credit Card',...</td>\n",
       "      <td>4.4</td>\n",
       "      <td>Very Good</td>\n",
       "      <td>814</td>\n",
       "      <td>154</td>\n",
       "      <td>0.0</td>\n",
       "      <td>-1</td>\n",
       "      <td>-1</td>\n",
       "    </tr>\n",
       "    <tr>\n",
       "      <th>1</th>\n",
       "      <td>3400005</td>\n",
       "      <td>Mama Chicken Mama Franky House</td>\n",
       "      <td>['Quick Bites']</td>\n",
       "      <td>https://www.zomato.com/agra/mama-chicken-mama-...</td>\n",
       "      <td>Main Market, Sadar Bazaar, Agra Cantt, Agra</td>\n",
       "      <td>Agra</td>\n",
       "      <td>34</td>\n",
       "      <td>Agra Cantt</td>\n",
       "      <td>27.160569</td>\n",
       "      <td>78.011583</td>\n",
       "      <td>...</td>\n",
       "      <td>2</td>\n",
       "      <td>Rs.</td>\n",
       "      <td>['Delivery', 'No Alcohol Available', 'Dinner',...</td>\n",
       "      <td>4.4</td>\n",
       "      <td>Very Good</td>\n",
       "      <td>1203</td>\n",
       "      <td>161</td>\n",
       "      <td>0.0</td>\n",
       "      <td>-1</td>\n",
       "      <td>-1</td>\n",
       "    </tr>\n",
       "    <tr>\n",
       "      <th>2</th>\n",
       "      <td>3401013</td>\n",
       "      <td>Bhagat Halwai</td>\n",
       "      <td>['Quick Bites']</td>\n",
       "      <td>https://www.zomato.com/agra/bhagat-halwai-2-sh...</td>\n",
       "      <td>62/1, Near Easy Day, West Shivaji Nagar, Goalp...</td>\n",
       "      <td>Agra</td>\n",
       "      <td>34</td>\n",
       "      <td>Shahganj</td>\n",
       "      <td>27.182938</td>\n",
       "      <td>77.979684</td>\n",
       "      <td>...</td>\n",
       "      <td>1</td>\n",
       "      <td>Rs.</td>\n",
       "      <td>['No Alcohol Available', 'Dinner', 'Takeaway A...</td>\n",
       "      <td>4.2</td>\n",
       "      <td>Very Good</td>\n",
       "      <td>801</td>\n",
       "      <td>107</td>\n",
       "      <td>0.0</td>\n",
       "      <td>1</td>\n",
       "      <td>-1</td>\n",
       "    </tr>\n",
       "    <tr>\n",
       "      <th>3</th>\n",
       "      <td>3400290</td>\n",
       "      <td>Bhagat Halwai</td>\n",
       "      <td>['Quick Bites']</td>\n",
       "      <td>https://www.zomato.com/agra/bhagat-halwai-civi...</td>\n",
       "      <td>Near Anjana Cinema, Nehru Nagar, Civil Lines, ...</td>\n",
       "      <td>Agra</td>\n",
       "      <td>34</td>\n",
       "      <td>Civil Lines</td>\n",
       "      <td>27.205668</td>\n",
       "      <td>78.004799</td>\n",
       "      <td>...</td>\n",
       "      <td>1</td>\n",
       "      <td>Rs.</td>\n",
       "      <td>['Takeaway Available', 'Credit Card', 'Lunch',...</td>\n",
       "      <td>4.3</td>\n",
       "      <td>Very Good</td>\n",
       "      <td>693</td>\n",
       "      <td>157</td>\n",
       "      <td>0.0</td>\n",
       "      <td>1</td>\n",
       "      <td>-1</td>\n",
       "    </tr>\n",
       "    <tr>\n",
       "      <th>4</th>\n",
       "      <td>3401744</td>\n",
       "      <td>The Salt Cafe Kitchen &amp; Bar</td>\n",
       "      <td>['Casual Dining']</td>\n",
       "      <td>https://www.zomato.com/agra/the-salt-cafe-kitc...</td>\n",
       "      <td>1C,3rd Floor, Fatehabad Road, Tajganj, Agra</td>\n",
       "      <td>Agra</td>\n",
       "      <td>34</td>\n",
       "      <td>Tajganj</td>\n",
       "      <td>27.157709</td>\n",
       "      <td>78.052421</td>\n",
       "      <td>...</td>\n",
       "      <td>3</td>\n",
       "      <td>Rs.</td>\n",
       "      <td>['Lunch', 'Serves Alcohol', 'Cash', 'Credit Ca...</td>\n",
       "      <td>4.9</td>\n",
       "      <td>Excellent</td>\n",
       "      <td>470</td>\n",
       "      <td>291</td>\n",
       "      <td>0.0</td>\n",
       "      <td>1</td>\n",
       "      <td>-1</td>\n",
       "    </tr>\n",
       "    <tr>\n",
       "      <th>...</th>\n",
       "      <td>...</td>\n",
       "      <td>...</td>\n",
       "      <td>...</td>\n",
       "      <td>...</td>\n",
       "      <td>...</td>\n",
       "      <td>...</td>\n",
       "      <td>...</td>\n",
       "      <td>...</td>\n",
       "      <td>...</td>\n",
       "      <td>...</td>\n",
       "      <td>...</td>\n",
       "      <td>...</td>\n",
       "      <td>...</td>\n",
       "      <td>...</td>\n",
       "      <td>...</td>\n",
       "      <td>...</td>\n",
       "      <td>...</td>\n",
       "      <td>...</td>\n",
       "      <td>...</td>\n",
       "      <td>...</td>\n",
       "      <td>...</td>\n",
       "    </tr>\n",
       "    <tr>\n",
       "      <th>211939</th>\n",
       "      <td>3202251</td>\n",
       "      <td>Kali Mirch Cafe And Restaurant</td>\n",
       "      <td>['Casual Dining']</td>\n",
       "      <td>https://www.zomato.com/vadodara/kali-mirch-caf...</td>\n",
       "      <td>Manu Smriti Complex, Near Navrachna School, GI...</td>\n",
       "      <td>Vadodara</td>\n",
       "      <td>32</td>\n",
       "      <td>Fatehgunj</td>\n",
       "      <td>22.336931</td>\n",
       "      <td>73.192356</td>\n",
       "      <td>...</td>\n",
       "      <td>2</td>\n",
       "      <td>Rs.</td>\n",
       "      <td>['Dinner', 'Cash', 'Lunch', 'Delivery', 'Indoo...</td>\n",
       "      <td>4.1</td>\n",
       "      <td>Very Good</td>\n",
       "      <td>243</td>\n",
       "      <td>40</td>\n",
       "      <td>0.0</td>\n",
       "      <td>-1</td>\n",
       "      <td>-1</td>\n",
       "    </tr>\n",
       "    <tr>\n",
       "      <th>211940</th>\n",
       "      <td>3200996</td>\n",
       "      <td>Raju Omlet</td>\n",
       "      <td>['Quick Bites']</td>\n",
       "      <td>https://www.zomato.com/vadodara/raju-omlet-kar...</td>\n",
       "      <td>Mahalaxmi Apartment, Opposite B O B, Karoli Ba...</td>\n",
       "      <td>Vadodara</td>\n",
       "      <td>32</td>\n",
       "      <td>Karelibaug</td>\n",
       "      <td>22.322455</td>\n",
       "      <td>73.197203</td>\n",
       "      <td>...</td>\n",
       "      <td>1</td>\n",
       "      <td>Rs.</td>\n",
       "      <td>['Dinner', 'Cash', 'Takeaway Available', 'Debi...</td>\n",
       "      <td>4.1</td>\n",
       "      <td>Very Good</td>\n",
       "      <td>187</td>\n",
       "      <td>40</td>\n",
       "      <td>0.0</td>\n",
       "      <td>1</td>\n",
       "      <td>-1</td>\n",
       "    </tr>\n",
       "    <tr>\n",
       "      <th>211941</th>\n",
       "      <td>18984164</td>\n",
       "      <td>The Grand Thakar</td>\n",
       "      <td>['Casual Dining']</td>\n",
       "      <td>https://www.zomato.com/vadodara/the-grand-thak...</td>\n",
       "      <td>3rd Floor, Shreem Shalini Mall, Opposite Conqu...</td>\n",
       "      <td>Vadodara</td>\n",
       "      <td>32</td>\n",
       "      <td>Alkapuri</td>\n",
       "      <td>22.310563</td>\n",
       "      <td>73.171164</td>\n",
       "      <td>...</td>\n",
       "      <td>2</td>\n",
       "      <td>Rs.</td>\n",
       "      <td>['Dinner', 'Cash', 'Debit Card', 'Lunch', 'Tak...</td>\n",
       "      <td>4.0</td>\n",
       "      <td>Very Good</td>\n",
       "      <td>111</td>\n",
       "      <td>38</td>\n",
       "      <td>0.0</td>\n",
       "      <td>-1</td>\n",
       "      <td>-1</td>\n",
       "    </tr>\n",
       "    <tr>\n",
       "      <th>211942</th>\n",
       "      <td>3201138</td>\n",
       "      <td>Subway</td>\n",
       "      <td>['Quick Bites']</td>\n",
       "      <td>https://www.zomato.com/vadodara/subway-1-akota...</td>\n",
       "      <td>G-2, Vedant Platina, Near Cosmos, Akota, Vadodara</td>\n",
       "      <td>Vadodara</td>\n",
       "      <td>32</td>\n",
       "      <td>Akota</td>\n",
       "      <td>22.270027</td>\n",
       "      <td>73.143068</td>\n",
       "      <td>...</td>\n",
       "      <td>2</td>\n",
       "      <td>Rs.</td>\n",
       "      <td>['Dinner', 'Delivery', 'Credit Card', 'Lunch',...</td>\n",
       "      <td>3.7</td>\n",
       "      <td>Good</td>\n",
       "      <td>128</td>\n",
       "      <td>34</td>\n",
       "      <td>0.0</td>\n",
       "      <td>1</td>\n",
       "      <td>-1</td>\n",
       "    </tr>\n",
       "    <tr>\n",
       "      <th>211943</th>\n",
       "      <td>18879846</td>\n",
       "      <td>Freshco's - The Health Cafe</td>\n",
       "      <td>['CafÃ©']</td>\n",
       "      <td>https://www.zomato.com/vadodara/freshcos-the-h...</td>\n",
       "      <td>Shop 7, Ground Floor, Opposite Natubhai Circle...</td>\n",
       "      <td>Vadodara</td>\n",
       "      <td>32</td>\n",
       "      <td>Vadiwadi</td>\n",
       "      <td>22.309935</td>\n",
       "      <td>73.158768</td>\n",
       "      <td>...</td>\n",
       "      <td>2</td>\n",
       "      <td>Rs.</td>\n",
       "      <td>['Dinner', 'Cash', 'Takeaway Available', 'Debi...</td>\n",
       "      <td>4.0</td>\n",
       "      <td>Very Good</td>\n",
       "      <td>93</td>\n",
       "      <td>53</td>\n",
       "      <td>0.0</td>\n",
       "      <td>1</td>\n",
       "      <td>-1</td>\n",
       "    </tr>\n",
       "  </tbody>\n",
       "</table>\n",
       "<p>211944 rows × 26 columns</p>\n",
       "</div>"
      ],
      "text/plain": [
       "          res_id                            name      establishment  \\\n",
       "0        3400299                     Bikanervala    ['Quick Bites']   \n",
       "1        3400005  Mama Chicken Mama Franky House    ['Quick Bites']   \n",
       "2        3401013                   Bhagat Halwai    ['Quick Bites']   \n",
       "3        3400290                   Bhagat Halwai    ['Quick Bites']   \n",
       "4        3401744     The Salt Cafe Kitchen & Bar  ['Casual Dining']   \n",
       "...          ...                             ...                ...   \n",
       "211939   3202251  Kali Mirch Cafe And Restaurant  ['Casual Dining']   \n",
       "211940   3200996                      Raju Omlet    ['Quick Bites']   \n",
       "211941  18984164                The Grand Thakar  ['Casual Dining']   \n",
       "211942   3201138                          Subway    ['Quick Bites']   \n",
       "211943  18879846     Freshco's - The Health Cafe          ['CafÃ©']   \n",
       "\n",
       "                                                      url  \\\n",
       "0       https://www.zomato.com/agra/bikanervala-khanda...   \n",
       "1       https://www.zomato.com/agra/mama-chicken-mama-...   \n",
       "2       https://www.zomato.com/agra/bhagat-halwai-2-sh...   \n",
       "3       https://www.zomato.com/agra/bhagat-halwai-civi...   \n",
       "4       https://www.zomato.com/agra/the-salt-cafe-kitc...   \n",
       "...                                                   ...   \n",
       "211939  https://www.zomato.com/vadodara/kali-mirch-caf...   \n",
       "211940  https://www.zomato.com/vadodara/raju-omlet-kar...   \n",
       "211941  https://www.zomato.com/vadodara/the-grand-thak...   \n",
       "211942  https://www.zomato.com/vadodara/subway-1-akota...   \n",
       "211943  https://www.zomato.com/vadodara/freshcos-the-h...   \n",
       "\n",
       "                                                  address      city  city_id  \\\n",
       "0       Kalyani Point, Near Tulsi Cinema, Bypass Road,...      Agra       34   \n",
       "1             Main Market, Sadar Bazaar, Agra Cantt, Agra      Agra       34   \n",
       "2       62/1, Near Easy Day, West Shivaji Nagar, Goalp...      Agra       34   \n",
       "3       Near Anjana Cinema, Nehru Nagar, Civil Lines, ...      Agra       34   \n",
       "4             1C,3rd Floor, Fatehabad Road, Tajganj, Agra      Agra       34   \n",
       "...                                                   ...       ...      ...   \n",
       "211939  Manu Smriti Complex, Near Navrachna School, GI...  Vadodara       32   \n",
       "211940  Mahalaxmi Apartment, Opposite B O B, Karoli Ba...  Vadodara       32   \n",
       "211941  3rd Floor, Shreem Shalini Mall, Opposite Conqu...  Vadodara       32   \n",
       "211942  G-2, Vedant Platina, Near Cosmos, Akota, Vadodara  Vadodara       32   \n",
       "211943  Shop 7, Ground Floor, Opposite Natubhai Circle...  Vadodara       32   \n",
       "\n",
       "           locality   latitude  longitude  ... price_range  currency  \\\n",
       "0          Khandari  27.211450  78.002381  ...           2       Rs.   \n",
       "1        Agra Cantt  27.160569  78.011583  ...           2       Rs.   \n",
       "2          Shahganj  27.182938  77.979684  ...           1       Rs.   \n",
       "3       Civil Lines  27.205668  78.004799  ...           1       Rs.   \n",
       "4           Tajganj  27.157709  78.052421  ...           3       Rs.   \n",
       "...             ...        ...        ...  ...         ...       ...   \n",
       "211939    Fatehgunj  22.336931  73.192356  ...           2       Rs.   \n",
       "211940   Karelibaug  22.322455  73.197203  ...           1       Rs.   \n",
       "211941     Alkapuri  22.310563  73.171164  ...           2       Rs.   \n",
       "211942        Akota  22.270027  73.143068  ...           2       Rs.   \n",
       "211943     Vadiwadi  22.309935  73.158768  ...           2       Rs.   \n",
       "\n",
       "                                               highlights aggregate_rating  \\\n",
       "0       ['Lunch', 'Takeaway Available', 'Credit Card',...              4.4   \n",
       "1       ['Delivery', 'No Alcohol Available', 'Dinner',...              4.4   \n",
       "2       ['No Alcohol Available', 'Dinner', 'Takeaway A...              4.2   \n",
       "3       ['Takeaway Available', 'Credit Card', 'Lunch',...              4.3   \n",
       "4       ['Lunch', 'Serves Alcohol', 'Cash', 'Credit Ca...              4.9   \n",
       "...                                                   ...              ...   \n",
       "211939  ['Dinner', 'Cash', 'Lunch', 'Delivery', 'Indoo...              4.1   \n",
       "211940  ['Dinner', 'Cash', 'Takeaway Available', 'Debi...              4.1   \n",
       "211941  ['Dinner', 'Cash', 'Debit Card', 'Lunch', 'Tak...              4.0   \n",
       "211942  ['Dinner', 'Delivery', 'Credit Card', 'Lunch',...              3.7   \n",
       "211943  ['Dinner', 'Cash', 'Takeaway Available', 'Debi...              4.0   \n",
       "\n",
       "       rating_text  votes  photo_count opentable_support delivery  takeaway  \n",
       "0        Very Good    814          154               0.0       -1        -1  \n",
       "1        Very Good   1203          161               0.0       -1        -1  \n",
       "2        Very Good    801          107               0.0        1        -1  \n",
       "3        Very Good    693          157               0.0        1        -1  \n",
       "4        Excellent    470          291               0.0        1        -1  \n",
       "...            ...    ...          ...               ...      ...       ...  \n",
       "211939   Very Good    243           40               0.0       -1        -1  \n",
       "211940   Very Good    187           40               0.0        1        -1  \n",
       "211941   Very Good    111           38               0.0       -1        -1  \n",
       "211942        Good    128           34               0.0        1        -1  \n",
       "211943   Very Good     93           53               0.0        1        -1  \n",
       "\n",
       "[211944 rows x 26 columns]"
      ]
     },
     "execution_count": 304,
     "metadata": {},
     "output_type": "execute_result"
    }
   ],
   "source": [
    "data.head();\n",
    "data"
   ]
  },
  {
   "cell_type": "code",
   "execution_count": 306,
   "id": "cc351f84-4c74-487a-9b35-0633638f8e92",
   "metadata": {},
   "outputs": [
    {
     "data": {
      "text/plain": [
       "(55568, 26)"
      ]
     },
     "execution_count": 306,
     "metadata": {},
     "output_type": "execute_result"
    }
   ],
   "source": [
    "data.drop_duplicates([\"res_id\"], keep = 'first' , inplace = True)\n",
    "data.shape"
   ]
  },
  {
   "cell_type": "markdown",
   "id": "70a19397-896e-42cc-b7a3-50fdaa8d24d9",
   "metadata": {},
   "source": [
    "### Dealing with missing values\n",
    "Now let's see how many variables have missing values."
   ]
  },
  {
   "cell_type": "code",
   "execution_count": 309,
   "id": "89f63685-8a90-47fd-bebd-3051a09e0042",
   "metadata": {},
   "outputs": [
    {
     "data": {
      "text/plain": [
       "res_id                      0\n",
       "name                        0\n",
       "establishment               0\n",
       "url                         0\n",
       "address                    18\n",
       "city                        0\n",
       "city_id                     0\n",
       "locality                    0\n",
       "latitude                    0\n",
       "longitude                   0\n",
       "zipcode                 44623\n",
       "country_id                  0\n",
       "locality_verbose            0\n",
       "cuisines                  470\n",
       "timings                  1003\n",
       "average_cost_for_two        0\n",
       "price_range                 0\n",
       "currency                    0\n",
       "highlights                  0\n",
       "aggregate_rating            0\n",
       "rating_text                 0\n",
       "votes                       0\n",
       "photo_count                 0\n",
       "opentable_support          12\n",
       "delivery                    0\n",
       "takeaway                    0\n",
       "dtype: int64"
      ]
     },
     "execution_count": 309,
     "metadata": {},
     "output_type": "execute_result"
    }
   ],
   "source": [
    "data.isnull().sum()"
   ]
  },
  {
   "cell_type": "markdown",
   "id": "5451b40e-9bd9-4881-80ae-2b93ba369850",
   "metadata": {},
   "source": [
    "We have 5 variables with some kind of missing values. \n",
    "Since zipcode has ~80% missing data, its better to not consider it at all. The other 4 features can be delt with some kind of imputation, but before going through the trouble, its better to look and decide whether they would be beneficial for our analysis or we can simply omit them.\n",
    "\n",
    "### Omitting not useful features\n",
    "\n",
    "Here we will look at each feature and decide to consider them for our analysis or not:- \n",
    "1. <b>res_id</b> - Unique ID for each restaurant\n",
    "2. <b>name</b> - Name is useful since we will use it to find top restaurants\n",
    "3. <b>establishment</b> - Let's see what type of values we have in establishment"
   ]
  },
  {
   "cell_type": "code",
   "execution_count": 312,
   "id": "48f31dd0-0353-4ee3-b85f-47bd9014c5ee",
   "metadata": {},
   "outputs": [
    {
     "data": {
      "text/plain": [
       "array([\"['Quick Bites']\", \"['Casual Dining']\", \"['Bakery']\", \"['CafÃ©']\",\n",
       "       \"['Dhaba']\", \"['Bhojanalya']\", \"['Bar']\", \"['Sweet Shop']\",\n",
       "       \"['Fine Dining']\", \"['Food Truck']\", \"['Dessert Parlour']\",\n",
       "       \"['Lounge']\", \"['Pub']\", \"['Beverage Shop']\", \"['Kiosk']\",\n",
       "       \"['Paan Shop']\", \"['Confectionery']\", '[]', \"['Shack']\",\n",
       "       \"['Club']\", \"['Food Court']\", \"['Mess']\", \"['Butcher Shop']\",\n",
       "       \"['Microbrewery']\", \"['Cocktail Bar']\", \"['Pop up']\",\n",
       "       \"['Irani Cafe']\"], dtype=object)"
      ]
     },
     "execution_count": 312,
     "metadata": {},
     "output_type": "execute_result"
    }
   ],
   "source": [
    "data[\"establishment\"].unique()"
   ]
  },
  {
   "cell_type": "code",
   "execution_count": 314,
   "id": "d1d8e4c1-3c9f-44a4-bc18-885b9b461682",
   "metadata": {},
   "outputs": [
    {
     "name": "stdout",
     "output_type": "stream",
     "text": [
      "['Quick Bites']\n",
      "<class 'str'>\n"
     ]
    }
   ],
   "source": [
    "print(data[\"establishment\"].unique()[0])\n",
    "print(type(data[\"establishment\"].unique()[0]))"
   ]
  },
  {
   "cell_type": "markdown",
   "id": "4da827a8-bb9e-43a5-aa1c-3f53e26b3407",
   "metadata": {},
   "source": [
    "##### Establishment looks like a nice feature to perform EDA, however each value has an unwanted square brackets and quotes which seems noisy. Let's remove them with <b>apply( )</b> function.\n",
    "Also, we have one value which is an empty string, let's rename it to \"NA\" to avoid confusion."
   ]
  },
  {
   "cell_type": "code",
   "execution_count": 317,
   "id": "8fe2354a-0511-4c15-a77d-0aae3a29980b",
   "metadata": {},
   "outputs": [
    {
     "name": "stdout",
     "output_type": "stream",
     "text": [
      "['Quick Bites']\n",
      "Quick Bites\n",
      "['Quick Bites' 'Casual Dining' 'Bakery' 'CafÃ©' 'Dhaba' 'Bhojanalya' 'Bar'\n",
      " 'Sweet Shop' 'Fine Dining' 'Food Truck' 'Dessert Parlour' 'Lounge' 'Pub'\n",
      " 'Beverage Shop' 'Kiosk' 'Paan Shop' 'Confectionery' '' 'Shack' 'Club'\n",
      " 'Food Court' 'Mess' 'Butcher Shop' 'Microbrewery' 'Cocktail Bar' 'Pop up'\n",
      " 'Irani Cafe']\n",
      "['Quick Bites' 'Casual Dining' 'Bakery' 'CafÃ©' 'Dhaba' 'Bhojanalya' 'Bar'\n",
      " 'Sweet Shop' 'Fine Dining' 'Food Truck' 'Dessert Parlour' 'Lounge' 'Pub'\n",
      " 'Beverage Shop' 'Kiosk' 'Paan Shop' 'Confectionery' 'NA' 'Shack' 'Club'\n",
      " 'Food Court' 'Mess' 'Butcher Shop' 'Microbrewery' 'Cocktail Bar' 'Pop up'\n",
      " 'Irani Cafe']\n"
     ]
    }
   ],
   "source": [
    "# Removing [' '] from each value\n",
    "print(data[\"establishment\"].unique()[0])\n",
    "data[\"establishment\"] = data[\"establishment\"].apply(lambda x:x[2:-2])\n",
    "print(data[\"establishment\"].unique()[0])\n",
    "\n",
    "# Changing ''  to 'NA'\n",
    "print(data[\"establishment\"].unique())\n",
    "data[\"establishment\"] = data[\"establishment\"].apply(lambda x : np.where(x==\"\", \"NA\", x))\n",
    "print(data[\"establishment\"].unique())"
   ]
  },
  {
   "cell_type": "markdown",
   "id": "c23dc5e5-94ca-4221-9df0-ca6da49c2532",
   "metadata": {},
   "source": [
    "4. url - URL is the link to restaurant's page which is not useful for us\n",
    "5. address - Not useful since it has long strings and its difficult to classify\n",
    "6. city - Let's check unique cities\n"
   ]
  },
  {
   "cell_type": "code",
   "execution_count": 320,
   "id": "b4fd9721-ec9a-4faf-8bf5-2fe96d297394",
   "metadata": {},
   "outputs": [
    {
     "data": {
      "text/plain": [
       "1843"
      ]
     },
     "execution_count": 320,
     "metadata": {},
     "output_type": "execute_result"
    }
   ],
   "source": [
    "len(data[data[\"city\"]==\"Pune\"])"
   ]
  },
  {
   "cell_type": "code",
   "execution_count": 322,
   "id": "9209c3aa-7f69-493e-b689-27b8c1fbe98a",
   "metadata": {},
   "outputs": [
    {
     "data": {
      "text/plain": [
       "99"
      ]
     },
     "execution_count": 322,
     "metadata": {},
     "output_type": "execute_result"
    }
   ],
   "source": [
    "len(data.city.unique())"
   ]
  },
  {
   "cell_type": "code",
   "execution_count": 324,
   "id": "fa3afdf2-d00d-4e9d-b12f-7dc2bdd60d14",
   "metadata": {},
   "outputs": [
    {
     "data": {
      "text/plain": [
       "array(['Agra', 'Ahmedabad', 'Gandhinagar', 'Ajmer', 'Alappuzha',\n",
       "       'Allahabad', 'Amravati', 'Amritsar', 'Aurangabad', 'Bangalore',\n",
       "       'Bhopal', 'Bhubaneshwar', 'Chandigarh', 'Mohali', 'Panchkula',\n",
       "       'Zirakpur', 'Nayagaon', 'Chennai', 'Coimbatore', 'Cuttack',\n",
       "       'Darjeeling', 'Dehradun', 'New Delhi', 'Gurgaon', 'Noida',\n",
       "       'Faridabad', 'Ghaziabad', 'Greater Noida', 'Dharamshala',\n",
       "       'Gangtok', 'Goa', 'Gorakhpur', 'Guntur', 'Guwahati', 'Gwalior',\n",
       "       'Haridwar', 'Hyderabad', 'Secunderabad', 'Indore', 'Jabalpur',\n",
       "       'Jaipur', 'Jalandhar', 'Jammu', 'Jamnagar', 'Jamshedpur', 'Jhansi',\n",
       "       'Jodhpur', 'Junagadh', 'Kanpur', 'Kharagpur', 'Kochi', 'Kolhapur',\n",
       "       'Kolkata', 'Howrah', 'Kota', 'Lucknow', 'Ludhiana', 'Madurai',\n",
       "       'Manali', 'Mangalore', 'Manipal', 'Udupi', 'Meerut', 'Mumbai',\n",
       "       'Thane', 'Navi Mumbai', 'Mussoorie', 'Mysore', 'Nagpur',\n",
       "       'Nainital', 'Nasik', 'Nashik', 'Neemrana', 'Ooty', 'Palakkad',\n",
       "       'Patiala', 'Patna', 'Puducherry', 'Pune', 'Pushkar', 'Raipur',\n",
       "       'Rajkot', 'Ranchi', 'Rishikesh', 'Salem', 'Shimla', 'Siliguri',\n",
       "       'Srinagar', 'Surat', 'Thrissur', 'Tirupati', 'Trichy',\n",
       "       'Trivandrum', 'Udaipur', 'Varanasi', 'Vellore', 'Vijayawada',\n",
       "       'Vizag', 'Vadodara'], dtype=object)"
      ]
     },
     "execution_count": 324,
     "metadata": {},
     "output_type": "execute_result"
    }
   ],
   "source": [
    "data['city'].unique()"
   ]
  },
  {
   "cell_type": "markdown",
   "id": "7d7cc3ad-8a43-4714-92aa-a4bf7beb25ad",
   "metadata": {
    "jp-MarkdownHeadingCollapsed": true
   },
   "source": [
    "* Look's good. \n",
    "\n",
    "7. city_id- We can uniquely use city name or id. So one feature is enough\n",
    "8. locality- Let's see number of unique values"
   ]
  },
  {
   "cell_type": "code",
   "execution_count": 327,
   "id": "1bc9046b-deb4-4d1c-b16a-16753d5a61ee",
   "metadata": {},
   "outputs": [
    {
     "data": {
      "text/plain": [
       "3731"
      ]
     },
     "execution_count": 327,
     "metadata": {},
     "output_type": "execute_result"
    }
   ],
   "source": [
    "data[\"locality\"].nunique()"
   ]
  },
  {
   "cell_type": "markdown",
   "id": "ea443262-51ee-4641-bc6a-6dd6734ae76d",
   "metadata": {},
   "source": [
    "* Although it can be an interesting feature, but since this feature has so many unique classes, we will avoid it.\n",
    "\n",
    "9. latitude - Can be helpful while using geographic maps, but we won't be doing that here\n",
    "\n",
    "10. longitude - Same as above\n",
    "\n",
    "11. zipcode - Approx 80% missing values\n",
    "\n",
    "12. country_id - Since this dataset is for Indian restaurants, there should be just one unique id here. Let's check.\n",
    "\n"
   ]
  },
  {
   "cell_type": "code",
   "execution_count": 330,
   "id": "d522ee90-2981-4af5-8b1e-02380f96eb88",
   "metadata": {},
   "outputs": [
    {
     "data": {
      "text/plain": [
       "1"
      ]
     },
     "execution_count": 330,
     "metadata": {},
     "output_type": "execute_result"
    }
   ],
   "source": [
    "data[\"country_id\"].nunique()"
   ]
  },
  {
   "cell_type": "markdown",
   "id": "debd8060-b732-45ed-a20b-7d82d5457cf9",
   "metadata": {},
   "source": [
    "13. locality_verbose - Same as locality\n"
   ]
  },
  {
   "cell_type": "code",
   "execution_count": 333,
   "id": "94091431-8eed-400f-8a46-752946409cdf",
   "metadata": {},
   "outputs": [
    {
     "data": {
      "text/plain": [
       "3910"
      ]
     },
     "execution_count": 333,
     "metadata": {},
     "output_type": "execute_result"
    }
   ],
   "source": [
    "data[\"locality_verbose\"].nunique()"
   ]
  },
  {
   "cell_type": "markdown",
   "id": "231504a0-1d17-4f65-acae-1b9472751bc8",
   "metadata": {},
   "source": [
    "14. cuisines - This feature has some missing values. Even though this has 9382 unique classes, we can see that each restaurant has a list of cusinies and the composition of the list is the reason why we have so many different cuisine classes. Let's check actual number of unique cuisine classes. But first we need to replace null values with a label.\n"
   ]
  },
  {
   "cell_type": "code",
   "execution_count": 336,
   "id": "55fce4c6-635e-4855-bfcd-de55c97c44ee",
   "metadata": {},
   "outputs": [
    {
     "name": "stdout",
     "output_type": "stream",
     "text": [
      "9382\n",
      "['North Indian, South Indian, Mithai, Street Food, Desserts'\n",
      " 'North Indian, Mughlai, Rolls, Chinese, Fast Food, Street Food'\n",
      " 'Fast Food, Mithai' ...\n",
      " 'Street Food, Biryani, Chinese, Fast Food, North Indian, Mughlai'\n",
      " 'North Indian, Chinese, Mexican, Italian, Thai, Continental'\n",
      " 'North Indian, Lucknowi, Chinese']\n"
     ]
    }
   ],
   "source": [
    "print(data[\"cuisines\"].nunique())\n",
    "print(data[\"cuisines\"].unique())"
   ]
  },
  {
   "cell_type": "code",
   "execution_count": 338,
   "id": "aea8d21e-e6d9-4301-8fbe-509d4b5ec1f6",
   "metadata": {},
   "outputs": [
    {
     "data": {
      "text/plain": [
       "9383"
      ]
     },
     "execution_count": 338,
     "metadata": {},
     "output_type": "execute_result"
    }
   ],
   "source": [
    "data[\"cuisines\"]=data[\"cuisines\"].fillna(\"No cuisines\")\n",
    "data[\"cuisines\"].nunique()\n"
   ]
  },
  {
   "cell_type": "code",
   "execution_count": 340,
   "id": "a761a7f2-2df3-431b-8b20-07e749d0f2e2",
   "metadata": {},
   "outputs": [
    {
     "name": "stdout",
     "output_type": "stream",
     "text": [
      "Total number of unique cuisines =  134\n"
     ]
    }
   ],
   "source": [
    "cuisines = []\n",
    "data[\"cuisines\"].apply(lambda x : cuisines.extend(x.split(\", \")))\n",
    "cuisines  = pd.Series(cuisines)\n",
    "print(\"Total number of unique cuisines = \", cuisines.nunique())"
   ]
  },
  {
   "cell_type": "markdown",
   "id": "4007dce8-82e6-4ca3-9fdf-c05f0e49d359",
   "metadata": {},
   "source": [
    "15. timings - This also has missing data, however it has 7740 unique classes. Also, it is not structured even if we try to reduce the number classes like we did in cuisines.\n",
    "\n",
    "Its better to omit it altogether.\n",
    "\n"
   ]
  },
  {
   "cell_type": "code",
   "execution_count": 343,
   "id": "7ffcb6f6-a149-4088-b55d-5973db695ef4",
   "metadata": {},
   "outputs": [
    {
     "name": "stdout",
     "output_type": "stream",
     "text": [
      "7740\n",
      "['8:30am â€“ 10:30pm (Mon-Sun)'\n",
      " '12:30PM to 12Midnight (Mon, Wed, Thu, Fri, Sat, Sun), 1PM to 12Midnight (Tue)'\n",
      " '9:30 AM to 11 PM' ... '8am â€“ 2:30pm, 5pm â€“ 10pm (Mon-Sun)'\n",
      " '8am â€“ 3pm, 6:30pm â€“ 11pm (Mon-Sun)'\n",
      " '4pm â€“ 11pm (Mon, Tue, Wed, Fri, Sat, Sun), 4pm â€“ 11:30pm (Thu)']\n"
     ]
    }
   ],
   "source": [
    "print(data[\"timings\"].nunique())\n",
    "print(data[\"timings\"].unique())"
   ]
  },
  {
   "cell_type": "markdown",
   "id": "8481b83a-d46e-4b40-b84e-ecfe12061921",
   "metadata": {},
   "source": [
    "16. average_cost_for_two - This is an interesting feature for our analysis, although the value \"0\" is strange and should be an outlier"
   ]
  },
  {
   "cell_type": "code",
   "execution_count": 346,
   "id": "bd6e04bd-a411-482c-a5dc-b5d9d11ae789",
   "metadata": {},
   "outputs": [
    {
     "data": {
      "text/plain": [
       "145"
      ]
     },
     "execution_count": 346,
     "metadata": {},
     "output_type": "execute_result"
    }
   ],
   "source": [
    "data[\"average_cost_for_two\"].nunique()"
   ]
  },
  {
   "cell_type": "markdown",
   "id": "b4d849ac-45ae-4571-a5ec-f691a9d498df",
   "metadata": {},
   "source": [
    "17. price_range - Average prices automatically characterized into bins\n"
   ]
  },
  {
   "cell_type": "code",
   "execution_count": 349,
   "id": "ab11d538-1dda-44d9-8877-557bf757679a",
   "metadata": {},
   "outputs": [
    {
     "data": {
      "text/plain": [
       "array([2, 1, 3, 4], dtype=int64)"
      ]
     },
     "execution_count": 349,
     "metadata": {},
     "output_type": "execute_result"
    }
   ],
   "source": [
    "data[\"price_range\"].unique()"
   ]
  },
  {
   "cell_type": "markdown",
   "id": "7d7210f5-9808-4f5e-b8ac-f0b5508f7c93",
   "metadata": {},
   "source": [
    "18. currency - Only one class. Not useful\n"
   ]
  },
  {
   "cell_type": "code",
   "execution_count": 352,
   "id": "a993de1e-3fc7-470e-a8ee-aabecbc47652",
   "metadata": {},
   "outputs": [
    {
     "data": {
      "text/plain": [
       "array(['Rs.'], dtype=object)"
      ]
     },
     "execution_count": 352,
     "metadata": {},
     "output_type": "execute_result"
    }
   ],
   "source": [
    "data[\"currency\"].unique()"
   ]
  },
  {
   "cell_type": "markdown",
   "id": "a6b91ba2-0f8f-4977-9dba-c57647815f7b",
   "metadata": {},
   "source": [
    "19. highlights - They represent certain features that the restaurant specializes in and wants to highlight to their customers. Each restaurant has a list of highlights which makes the composition different for each one. We can, filter this and find total unique highlights from all restaurants.\n"
   ]
  },
  {
   "cell_type": "code",
   "execution_count": 355,
   "id": "a401b5e1-7ca7-41a1-a81b-1bac9f989127",
   "metadata": {},
   "outputs": [
    {
     "name": "stdout",
     "output_type": "stream",
     "text": [
      "31228\n",
      "[\"['Lunch', 'Takeaway Available', 'Credit Card', 'Dinner', 'Cash', 'Air Conditioned', 'Indoor Seating', 'Pure Veg']\"\n",
      " \"['Delivery', 'No Alcohol Available', 'Dinner', 'Takeaway Available', 'Lunch', 'Cash', 'Indoor Seating']\"\n",
      " \"['No Alcohol Available', 'Dinner', 'Takeaway Available', 'Breakfast', 'Lunch', 'Cash', 'Delivery', 'Outdoor Seating', 'Air Conditioned', 'Self Service', 'Indoor Seating', 'Digital Payments Accepted', 'Pure Veg', 'Desserts and Bakes']\"\n",
      " ...\n",
      " \"['Dinner', 'Delivery', 'Cash', 'Takeaway Available', 'Free Parking', 'Digital Payments Accepted', 'Pure Veg', 'Indoor Seating']\"\n",
      " \"['Dinner', 'Cash', 'Takeaway Available', 'Lunch', 'Delivery', 'Free Parking', 'Indoor Seating', 'Air Conditioned', 'Outdoor Seating', 'Digital Payments Accepted', 'Catering Available', 'Pure Veg']\"\n",
      " \"['Dinner', 'Cash', 'Takeaway Available', 'Debit Card', 'Delivery', 'Credit Card', 'Free Parking', 'Outdoor Seating']\"]\n"
     ]
    }
   ],
   "source": [
    "print(data[\"highlights\"].nunique())\n",
    "print(data[\"highlights\"].unique())"
   ]
  },
  {
   "cell_type": "code",
   "execution_count": 357,
   "id": "9f523222-abb7-4619-8b6c-6cce564f0dd3",
   "metadata": {},
   "outputs": [
    {
     "name": "stdout",
     "output_type": "stream",
     "text": [
      "Total number of unique highlights =  104\n"
     ]
    }
   ],
   "source": [
    "hl = []\n",
    "data[\"highlights\"].apply(lambda x : hl.extend(x[2:-2].split(\"', '\")))\n",
    "hl = pd.Series(hl)\n",
    "print(\"Total number of unique highlights = \", hl.nunique())"
   ]
  },
  {
   "cell_type": "markdown",
   "id": "dbe4ecac-81f2-4bb0-a40f-7d1795cef131",
   "metadata": {},
   "source": [
    "20. aggregate_rating - Rating given to the restaurant\n",
    "21. rating_text - Characterisation of numeric rating into bins by using labels. We will be using direct ratings in our analysis, so we can ignore this.\n",
    "22. votes - Number of votes contributing to the rating\n",
    "23. photo_count - Photo uploads in reviews\n",
    "- Let's check the mean and range of above features\n",
    "\n"
   ]
  },
  {
   "cell_type": "code",
   "execution_count": 360,
   "id": "7ad60788-eca1-4395-83e4-58c5520fc309",
   "metadata": {},
   "outputs": [
    {
     "data": {
      "text/html": [
       "<div>\n",
       "<style scoped>\n",
       "    .dataframe tbody tr th:only-of-type {\n",
       "        vertical-align: middle;\n",
       "    }\n",
       "\n",
       "    .dataframe tbody tr th {\n",
       "        vertical-align: top;\n",
       "    }\n",
       "\n",
       "    .dataframe thead th {\n",
       "        text-align: right;\n",
       "    }\n",
       "</style>\n",
       "<table border=\"1\" class=\"dataframe\">\n",
       "  <thead>\n",
       "    <tr style=\"text-align: right;\">\n",
       "      <th></th>\n",
       "      <th>aggregate_rating</th>\n",
       "      <th>votes</th>\n",
       "      <th>photo_count</th>\n",
       "    </tr>\n",
       "  </thead>\n",
       "  <tbody>\n",
       "    <tr>\n",
       "      <th>mean</th>\n",
       "      <td>2.958593</td>\n",
       "      <td>223.330352</td>\n",
       "      <td>160.97477</td>\n",
       "    </tr>\n",
       "    <tr>\n",
       "      <th>min</th>\n",
       "      <td>0.000000</td>\n",
       "      <td>-18.000000</td>\n",
       "      <td>0.00000</td>\n",
       "    </tr>\n",
       "    <tr>\n",
       "      <th>max</th>\n",
       "      <td>4.900000</td>\n",
       "      <td>42539.000000</td>\n",
       "      <td>17702.00000</td>\n",
       "    </tr>\n",
       "  </tbody>\n",
       "</table>\n",
       "</div>"
      ],
      "text/plain": [
       "      aggregate_rating         votes  photo_count\n",
       "mean          2.958593    223.330352    160.97477\n",
       "min           0.000000    -18.000000      0.00000\n",
       "max           4.900000  42539.000000  17702.00000"
      ]
     },
     "execution_count": 360,
     "metadata": {},
     "output_type": "execute_result"
    }
   ],
   "source": [
    "data[[\"aggregate_rating\",\"votes\",\"photo_count\"]].describe().loc[[\"mean\",\"min\",\"max\"]]"
   ]
  },
  {
   "cell_type": "markdown",
   "id": "8d4a5c62-c5ea-4556-b3a7-4d87a4cb7229",
   "metadata": {},
   "source": [
    "Rating ranges between 0 and 5 while 42539 are the maximum votes given to a restaurant. The negative value in votes might be an outlier.\n",
    "\n",
    "24. opentable_support - Not useful since no restaurant has True value for this\n",
    "25. delivery - This feature has 3 classes but there is no explanation for those classes. We can consider -1 and 0 to be one class or ignore this feature for now\n",
    "26. takeaway - Again not useful since it only has one class\n"
   ]
  },
  {
   "cell_type": "code",
   "execution_count": 363,
   "id": "3d726abb-4d18-489a-ac47-67d33276c516",
   "metadata": {},
   "outputs": [
    {
     "data": {
      "text/plain": [
       "array([ 0., nan])"
      ]
     },
     "execution_count": 363,
     "metadata": {},
     "output_type": "execute_result"
    }
   ],
   "source": [
    "data[\"opentable_support\"].unique()"
   ]
  },
  {
   "cell_type": "code",
   "execution_count": 365,
   "id": "e98a2930-013c-4a38-8852-25880e36d531",
   "metadata": {},
   "outputs": [
    {
     "data": {
      "text/plain": [
       "array([-1,  1,  0], dtype=int64)"
      ]
     },
     "execution_count": 365,
     "metadata": {},
     "output_type": "execute_result"
    }
   ],
   "source": [
    "data[\"delivery\"].unique()"
   ]
  },
  {
   "cell_type": "code",
   "execution_count": 367,
   "id": "487236a9-6369-4075-b286-6c525bf569d1",
   "metadata": {},
   "outputs": [
    {
     "data": {
      "text/plain": [
       "array([-1], dtype=int64)"
      ]
     },
     "execution_count": 367,
     "metadata": {},
     "output_type": "execute_result"
    }
   ],
   "source": [
    "data[\"takeaway\"].unique()"
   ]
  },
  {
   "cell_type": "markdown",
   "id": "632291b5-b8df-4951-92e2-233916626324",
   "metadata": {},
   "source": [
    "## Exploratory Data Analysis (EDA)\n",
    "### Restaurant chains\n",
    "- Here chains represent restaurants with more than one outlet\n",
    "\n",
    "### Chains vs Outlets"
   ]
  },
  {
   "cell_type": "code",
   "execution_count": 370,
   "id": "e903cb8d-acfc-4f55-8234-80c3b4779869",
   "metadata": {},
   "outputs": [
    {
     "data": {
      "text/plain": [
       "name\n",
       "Domino's Pizza                           399\n",
       "Cafe Coffee Day                          315\n",
       "KFC                                      204\n",
       "Baskin Robbins                           202\n",
       "Keventers                                189\n",
       "                                        ... \n",
       "Boulevard 69                               1\n",
       "7-Eleven Restaurant                        1\n",
       "Food station                               1\n",
       "Silver Saloon - Taj Usha Kiran Palace      1\n",
       "Geeta lodge                                1\n",
       "Name: count, Length: 41100, dtype: int64"
      ]
     },
     "execution_count": 370,
     "metadata": {},
     "output_type": "execute_result"
    }
   ],
   "source": [
    "outlets = data[\"name\"].value_counts()\n",
    "outlets"
   ]
  },
  {
   "cell_type": "code",
   "execution_count": 372,
   "id": "9744ccf7-6e3d-43d9-9350-8c02e8fad0c4",
   "metadata": {},
   "outputs": [],
   "source": [
    "chains = outlets[outlets >= 2]\n",
    "single = outlets[outlets == 1]"
   ]
  },
  {
   "cell_type": "code",
   "execution_count": 374,
   "id": "80aefb31-b22e-4904-8e23-2cba7e93d63c",
   "metadata": {},
   "outputs": [
    {
     "data": {
      "text/plain": [
       "(55568, 26)"
      ]
     },
     "execution_count": 374,
     "metadata": {},
     "output_type": "execute_result"
    }
   ],
   "source": [
    "data.shape"
   ]
  },
  {
   "cell_type": "code",
   "execution_count": 376,
   "id": "5e156e00-53bc-4798-bcfc-11ee584a453c",
   "metadata": {},
   "outputs": [
    {
     "data": {
      "text/plain": [
       "name\n",
       "Domino's Pizza              399\n",
       "Cafe Coffee Day             315\n",
       "KFC                         204\n",
       "Baskin Robbins              202\n",
       "Keventers                   189\n",
       "                           ... \n",
       "Santoor Restaurant            2\n",
       "The Ice House                 2\n",
       "Zaatar Arabic Restaurant      2\n",
       "Ashok & Ashok Meat Dhaba      2\n",
       "Hotel Tara                    2\n",
       "Name: count, Length: 4890, dtype: int64"
      ]
     },
     "execution_count": 376,
     "metadata": {},
     "output_type": "execute_result"
    }
   ],
   "source": [
    "chains"
   ]
  },
  {
   "cell_type": "code",
   "execution_count": 378,
   "id": "5df23390-9ac9-4e41-a8a2-f8994fbf76da",
   "metadata": {},
   "outputs": [
    {
     "name": "stdout",
     "output_type": "stream",
     "text": [
      "Total Restaurants =  55568\n",
      "Total Restaurants that are part of some chain =  19358\n",
      "Percentage of Restaurants that are part of a chain =  35.0 %\n"
     ]
    }
   ],
   "source": [
    "print(\"Total Restaurants = \", data.shape[0])\n",
    "print(\"Total Restaurants that are part of some chain = \", data.shape[0] - single.shape[0])\n",
    "print(\"Percentage of Restaurants that are part of a chain = \", np.round((data.shape[0] - single.shape[0]) / data.shape[0],2)*100, \"%\")"
   ]
  },
  {
   "cell_type": "markdown",
   "id": "c6186b74-5745-4c6f-b892-64417b2843af",
   "metadata": {},
   "source": [
    "\n",
    "* 35% of total restaurants are part of some kind of restaurant chain. Here, we should account for cases where two different retaurants might have exact same name but are not related to each other.\n",
    "\n",
    "#### Top restaurant chains (by number of outlets)\n",
    "* Let's plot a horizontal bar graph to look at Top 10 restaurant chains. For the color scheme, we are using a list of pre-defined and selected colours to make the chart more appealing. If you want your analysis to look good visually, you should customize each and every element of your graph.\n",
    "\n"
   ]
  },
  {
   "cell_type": "code",
   "execution_count": 381,
   "id": "b70bd155-07dd-44b4-ae8d-0a0fc6275987",
   "metadata": {},
   "outputs": [
    {
     "data": {
      "text/plain": [
       "name\n",
       "Domino's Pizza     399\n",
       "Cafe Coffee Day    315\n",
       "KFC                204\n",
       "Baskin Robbins     202\n",
       "Keventers          189\n",
       "Subway             178\n",
       "McDonald's         130\n",
       "Pizza Hut          125\n",
       "Barbeque Nation    112\n",
       "Burger King        110\n",
       "Name: count, dtype: int64"
      ]
     },
     "execution_count": 381,
     "metadata": {},
     "output_type": "execute_result"
    }
   ],
   "source": [
    "chains.head(10)"
   ]
  },
  {
   "cell_type": "code",
   "execution_count": 383,
   "id": "ea84b8ab-1232-4660-a70a-1634d708f3fd",
   "metadata": {},
   "outputs": [],
   "source": [
    "top10_chains = data[\"name\"].value_counts()[:10].sort_values(ascending=True)"
   ]
  },
  {
   "cell_type": "code",
   "execution_count": 385,
   "id": "e18e0bba-1008-4a0d-9beb-c5fee2496b48",
   "metadata": {},
   "outputs": [
    {
     "data": {
      "image/png": "[encoded data removed]",
      "text/plain": [
       "<Figure size 1100x700 with 1 Axes>"
      ]
     },
     "metadata": {},
     "output_type": "display_data"
    }
   ],
   "source": [
    "height = top10_chains.values\n",
    "bars = top10_chains.index\n",
    "y_pos = np.arange(len(bars))\n",
    "\n",
    "fig = plt.figure(figsize=[11,7], frameon=False)\n",
    "ax = fig.gca()\n",
    "ax.spines[\"top\"].set_visible(\"#424242\")\n",
    "ax.spines[\"right\"].set_visible(False)\n",
    "ax.spines[\"left\"].set_color(\"#424242\")\n",
    "ax.spines[\"bottom\"].set_color(\"#424242\")\n",
    "\n",
    "#colors = [\"green\",\"blue\",\"magenta\",\"cyan\",\"gray\",\"yellow\",\"purple\",\"violet\",\"orange\",\"red\",\"maroon\"]\n",
    "#random.shuffle(colors)\n",
    "colors = [\"#f9cdac\",\"#f2a49f\",\"#ec7c92\",\"#e65586\",\"#bc438b\",\"#933291\",\"#692398\",\"#551c7b\",\"#41155e\",\"#2d0f41\"]\n",
    "plt.barh(y_pos, height, color=colors)\n",
    " \n",
    "plt.xticks(color=\"#424242\")\n",
    "\n",
    "plt.yticks(y_pos, bars, color=\"#424242\")\n",
    "plt.xlabel(\"Number of outlets in India\")\n",
    "\n",
    "for i, v in enumerate(height):\n",
    "    ax.text(v+3, i, str(v), color='#424242')\n",
    "plt.title(\"Top 10 Restaurant chain in India (by number of outlets)\")\n",
    "\n",
    "\n",
    "plt.show()"
   ]
  },
  {
   "cell_type": "markdown",
   "id": "a1b43bb6-c00a-4002-8069-53d105bf9013",
   "metadata": {},
   "source": [
    "* This chart is majorly dominaed by big fast food chains\n",
    "\n",
    "### Establishment Types\n",
    "#### Number of restaurants (by establishment type)\n"
   ]
  },
  {
   "cell_type": "code",
   "execution_count": 388,
   "id": "d89b82ea-6c60-45e0-97af-a51e0a3fa352",
   "metadata": {},
   "outputs": [
    {
     "data": {
      "image/png": "[encoded data removed]",
      "text/plain": [
       "<Figure size 800x500 with 1 Axes>"
      ]
     },
     "metadata": {},
     "output_type": "display_data"
    }
   ],
   "source": [
    "est_count = data.groupby(\"establishment\").count()[\"res_id\"].sort_values(ascending=False)[:5]\n",
    "\n",
    "fig = plt.figure(figsize=[8,5], frameon=False)\n",
    "ax = fig.gca()\n",
    "ax.spines[\"top\"].set_visible(False)\n",
    "ax.spines[\"right\"].set_visible(False)\n",
    "ax.spines[\"left\"].set_color(\"#424242\")\n",
    "ax.spines[\"bottom\"].set_color(\"#424242\")\n",
    "\n",
    "#colors = [\"green\",\"blue\",\"magenta\",\"cyan\",\"gray\",\"yellow\",\"purple\",\"violet\",\"orange\",\"red\",\"maroon\"]\n",
    "#random.shuffle(colors)\n",
    "colors = [\"#2d0f41\",'#933291',\"#e65586\",\"#f2a49f\",\"#f9cdac\"]\n",
    "plt.bar(est_count.index, est_count.values, color=colors)\n",
    "\n",
    "plt.xticks(range(0, 6), color=\"#424242\")\n",
    "plt.yticks(range(0, 25000, 5000), color=\"#424242\")\n",
    "plt.xlabel(\"Top 5 establishment types\")\n",
    "\n",
    "for i, v in enumerate(est_count):\n",
    "    ax.text(i-0.2, v+500, str(v), color='#424242')\n",
    "plt.title(\"Number of restaurants (by establishment type)\")\n",
    "\n",
    "\n",
    "plt.show()"
   ]
  },
  {
   "cell_type": "markdown",
   "id": "d15190f8-6d9a-4122-9a26-92f2ecd4f231",
   "metadata": {},
   "source": [
    "- Top 3 represents more casual and quick service restaurants, then from 4-6 we have dessert based shops.\n"
   ]
  },
  {
   "cell_type": "markdown",
   "id": "953307ce-b716-4001-8d99-a2645a4bc52f",
   "metadata": {},
   "source": [
    "## Cities\n",
    "### Number of restaurants (by city)\n"
   ]
  },
  {
   "cell_type": "code",
   "execution_count": 392,
   "id": "f788c629-a00e-4867-b199-396089ce940a",
   "metadata": {},
   "outputs": [
    {
     "data": {
      "image/png": "[encoded data removed]",
      "text/plain": [
       "<Figure size 1100x700 with 1 Axes>"
      ]
     },
     "metadata": {},
     "output_type": "display_data"
    }
   ],
   "source": [
    "city_counts = data.groupby(\"city\").count()[\"res_id\"].sort_values(ascending=True)[-10:]\n",
    "\n",
    "height = pd.Series(city_counts.values)\n",
    "bars = city_counts.index\n",
    "y_pos = np.arange(len(bars))\n",
    "\n",
    "fig = plt.figure(figsize=[11,7], frameon=False)\n",
    "ax = fig.gca()\n",
    "ax.spines[\"top\"].set_visible(\"#424242\")\n",
    "ax.spines[\"right\"].set_visible(False)\n",
    "ax.spines[\"left\"].set_color(\"#424242\")\n",
    "ax.spines[\"bottom\"].set_color(\"#424242\")\n",
    "\n",
    "#colors = [\"green\",\"blue\",\"magenta\",\"cyan\",\"gray\",\"yellow\",\"purple\",\"violet\",\"orange\",\"red\",\"maroon\"]\n",
    "#random.shuffle(colors)\n",
    "colors = ['#dcecc9', '#aadacc', '#78c6d0', '#48b3d3', '#3e94c0', '#3474ac', '#2a5599', '#203686', '#18216b', '#11174b']\n",
    "plt.barh(y_pos, height, color=colors)\n",
    "\n",
    "plt.xlim(3)\n",
    "plt.xticks(color=\"#424242\")\n",
    "plt.yticks(y_pos, bars, color=\"#424242\")\n",
    "plt.xlabel(\"Number of outlets\")\n",
    "\n",
    "for i, v in enumerate(height):\n",
    "    ax.text(v + 20, i, str(v), color='#424242')\n",
    "plt.title(\"Number of restaurants (by city)\")\n",
    "\n",
    "\n",
    "plt.show()"
   ]
  },
  {
   "cell_type": "markdown",
   "id": "2f9521c2-2b22-47c1-8b28-8e2c6e4e3a5a",
   "metadata": {},
   "source": [
    "- As expected, metro cities have more number of restaurants than others with South India dominating the Top 4\n",
    "\n"
   ]
  },
  {
   "cell_type": "markdown",
   "id": "d54d23ca-4f88-49e3-bf7f-d0b34ee6749f",
   "metadata": {},
   "source": [
    "### Cuisine\n",
    "##### Unique cuisines\n"
   ]
  },
  {
   "cell_type": "code",
   "execution_count": 396,
   "id": "d70e5b70-f414-4aef-9dca-2f817cdcc7da",
   "metadata": {},
   "outputs": [
    {
     "name": "stdout",
     "output_type": "stream",
     "text": [
      "Total number of unique cuisines =  134\n"
     ]
    }
   ],
   "source": [
    "print(\"Total number of unique cuisines = \", cuisines.nunique())"
   ]
  },
  {
   "cell_type": "markdown",
   "id": "678cd166-c983-4508-95cb-f3cf9e053391",
   "metadata": {},
   "source": [
    "#### Number of restaurants (by cuisine)"
   ]
  },
  {
   "cell_type": "code",
   "execution_count": 399,
   "id": "cc8f04b9-9b37-42c8-bcda-2788d27e671a",
   "metadata": {},
   "outputs": [
    {
     "data": {
      "image/png": "[encoded data removed]",
      "text/plain": [
       "<Figure size 800x500 with 1 Axes>"
      ]
     },
     "metadata": {},
     "output_type": "display_data"
    }
   ],
   "source": [
    "c_count = cuisines.value_counts()[:5]\n",
    "\n",
    "fig = plt.figure(figsize=[8,5], frameon=False)\n",
    "ax = fig.gca()\n",
    "ax.spines[\"top\"].set_visible(False)\n",
    "ax.spines[\"right\"].set_visible(False)\n",
    "ax.spines[\"left\"].set_color(\"#424242\")\n",
    "ax.spines[\"bottom\"].set_color(\"#424242\")\n",
    "\n",
    "#colors = [\"green\",\"blue\",\"magenta\",\"cyan\",\"gray\",\"yellow\",\"purple\",\"violet\",\"orange\",\"red\",\"maroon\"]\n",
    "#random.shuffle(colors)\n",
    "colors = ['#4c3430', '#b04829', '#ec8c41', '#f7c65d','#fded86']\n",
    "plt.bar(c_count.index, c_count.values, color=colors)\n",
    "\n",
    "plt.xticks(range(0, 6), color=\"#424242\")\n",
    "plt.yticks(range(0, 30000, 5000), color=\"#424242\")\n",
    "plt.xlabel(\"Top 5 cuisines\")\n",
    "\n",
    "for i, v in enumerate(c_count):\n",
    "    ax.text(i-0.2, v+500, str(v), color='#424242')\n",
    "plt.title(\"Number of restaurants (by cuisine type)\")\n",
    "\n",
    "\n",
    "plt.show()"
   ]
  },
  {
   "cell_type": "markdown",
   "id": "6570827c-cbb8-4f52-aedf-4d3de6c8451d",
   "metadata": {},
   "source": [
    "- Surprisingly, Chinese food comes second in the list of cuisines that Indians prefer, even more than fast food, desserts and South Indian food.\n",
    "\n",
    "### Highest rated cuisines\n"
   ]
  },
  {
   "cell_type": "code",
   "execution_count": 402,
   "id": "aa1a4c2d-413b-42f4-8ddb-9eecfdb7ca86",
   "metadata": {},
   "outputs": [],
   "source": [
    "data[\"cuisines2\"] = data['cuisines'].apply(lambda x : x.split(\", \"))\n",
    "\n",
    "cuisines_list = cuisines.unique().tolist()\n",
    "zeros = np.zeros(shape=(len(cuisines_list),2))\n",
    "c_and_r = pd.DataFrame(zeros, index=cuisines_list, columns=[\"Sum\",\"Total\"])"
   ]
  },
  {
   "cell_type": "code",
   "execution_count": 404,
   "id": "8afb2b4d-6be6-4cde-b2da-9270b2c99dd0",
   "metadata": {},
   "outputs": [],
   "source": [
    "for i, x in data.iterrows():\n",
    "    for j in x[\"cuisines2\"]:\n",
    "        c_and_r.loc[j][\"Sum\"] += x[\"aggregate_rating\"]  \n",
    "        c_and_r.loc[j][\"Total\"] += 1"
   ]
  },
  {
   "cell_type": "code",
   "execution_count": 405,
   "id": "538d7f5e-3458-441f-aa58-29eddda41776",
   "metadata": {},
   "outputs": [
    {
     "data": {
      "text/html": [
       "<div>\n",
       "<style scoped>\n",
       "    .dataframe tbody tr th:only-of-type {\n",
       "        vertical-align: middle;\n",
       "    }\n",
       "\n",
       "    .dataframe tbody tr th {\n",
       "        vertical-align: top;\n",
       "    }\n",
       "\n",
       "    .dataframe thead th {\n",
       "        text-align: right;\n",
       "    }\n",
       "</style>\n",
       "<table border=\"1\" class=\"dataframe\">\n",
       "  <thead>\n",
       "    <tr style=\"text-align: right;\">\n",
       "      <th></th>\n",
       "      <th>Sum</th>\n",
       "      <th>Total</th>\n",
       "      <th>Mean</th>\n",
       "    </tr>\n",
       "  </thead>\n",
       "  <tbody>\n",
       "    <tr>\n",
       "      <th>North Indian</th>\n",
       "      <td>60055.2</td>\n",
       "      <td>19226.0</td>\n",
       "      <td>3.123645</td>\n",
       "    </tr>\n",
       "    <tr>\n",
       "      <th>South Indian</th>\n",
       "      <td>18635.3</td>\n",
       "      <td>6381.0</td>\n",
       "      <td>2.920436</td>\n",
       "    </tr>\n",
       "    <tr>\n",
       "      <th>Mithai</th>\n",
       "      <td>8545.7</td>\n",
       "      <td>3144.0</td>\n",
       "      <td>2.718098</td>\n",
       "    </tr>\n",
       "    <tr>\n",
       "      <th>Street Food</th>\n",
       "      <td>10794.6</td>\n",
       "      <td>3715.0</td>\n",
       "      <td>2.905680</td>\n",
       "    </tr>\n",
       "    <tr>\n",
       "      <th>Desserts</th>\n",
       "      <td>22723.9</td>\n",
       "      <td>7064.0</td>\n",
       "      <td>3.216860</td>\n",
       "    </tr>\n",
       "    <tr>\n",
       "      <th>...</th>\n",
       "      <td>...</td>\n",
       "      <td>...</td>\n",
       "      <td>...</td>\n",
       "    </tr>\n",
       "    <tr>\n",
       "      <th>Swedish</th>\n",
       "      <td>3.6</td>\n",
       "      <td>1.0</td>\n",
       "      <td>3.600000</td>\n",
       "    </tr>\n",
       "    <tr>\n",
       "      <th>Cake</th>\n",
       "      <td>6.4</td>\n",
       "      <td>2.0</td>\n",
       "      <td>3.200000</td>\n",
       "    </tr>\n",
       "    <tr>\n",
       "      <th>Garhwali</th>\n",
       "      <td>3.3</td>\n",
       "      <td>2.0</td>\n",
       "      <td>1.650000</td>\n",
       "    </tr>\n",
       "    <tr>\n",
       "      <th>Vegan</th>\n",
       "      <td>3.5</td>\n",
       "      <td>1.0</td>\n",
       "      <td>3.500000</td>\n",
       "    </tr>\n",
       "    <tr>\n",
       "      <th>Afghani</th>\n",
       "      <td>3.4</td>\n",
       "      <td>3.0</td>\n",
       "      <td>1.133333</td>\n",
       "    </tr>\n",
       "  </tbody>\n",
       "</table>\n",
       "<p>134 rows × 3 columns</p>\n",
       "</div>"
      ],
      "text/plain": [
       "                  Sum    Total      Mean\n",
       "North Indian  60055.2  19226.0  3.123645\n",
       "South Indian  18635.3   6381.0  2.920436\n",
       "Mithai         8545.7   3144.0  2.718098\n",
       "Street Food   10794.6   3715.0  2.905680\n",
       "Desserts      22723.9   7064.0  3.216860\n",
       "...               ...      ...       ...\n",
       "Swedish           3.6      1.0  3.600000\n",
       "Cake              6.4      2.0  3.200000\n",
       "Garhwali          3.3      2.0  1.650000\n",
       "Vegan             3.5      1.0  3.500000\n",
       "Afghani           3.4      3.0  1.133333\n",
       "\n",
       "[134 rows x 3 columns]"
      ]
     },
     "execution_count": 405,
     "metadata": {},
     "output_type": "execute_result"
    }
   ],
   "source": [
    "c_and_r[\"Mean\"] = c_and_r[\"Sum\"] / c_and_r[\"Total\"]\n",
    "c_and_r"
   ]
  },
  {
   "cell_type": "code",
   "execution_count": 406,
   "id": "5e9f1e3b-7c94-4ece-a109-7c92a811496f",
   "metadata": {},
   "outputs": [
    {
     "data": {
      "text/html": [
       "<div>\n",
       "<style scoped>\n",
       "    .dataframe tbody tr th:only-of-type {\n",
       "        vertical-align: middle;\n",
       "    }\n",
       "\n",
       "    .dataframe tbody tr th {\n",
       "        vertical-align: top;\n",
       "    }\n",
       "\n",
       "    .dataframe thead th {\n",
       "        text-align: right;\n",
       "    }\n",
       "</style>\n",
       "<table border=\"1\" class=\"dataframe\">\n",
       "  <thead>\n",
       "    <tr style=\"text-align: right;\">\n",
       "      <th></th>\n",
       "      <th>Mean</th>\n",
       "      <th>Total</th>\n",
       "    </tr>\n",
       "  </thead>\n",
       "  <tbody>\n",
       "    <tr>\n",
       "      <th>Egyptian</th>\n",
       "      <td>4.416667</td>\n",
       "      <td>6.0</td>\n",
       "    </tr>\n",
       "    <tr>\n",
       "      <th>PokÃ©</th>\n",
       "      <td>4.350000</td>\n",
       "      <td>12.0</td>\n",
       "    </tr>\n",
       "    <tr>\n",
       "      <th>Fusion</th>\n",
       "      <td>4.350000</td>\n",
       "      <td>2.0</td>\n",
       "    </tr>\n",
       "    <tr>\n",
       "      <th>International</th>\n",
       "      <td>4.300000</td>\n",
       "      <td>1.0</td>\n",
       "    </tr>\n",
       "    <tr>\n",
       "      <th>Tex-Mex</th>\n",
       "      <td>4.293939</td>\n",
       "      <td>33.0</td>\n",
       "    </tr>\n",
       "    <tr>\n",
       "      <th>Singaporean</th>\n",
       "      <td>4.287500</td>\n",
       "      <td>16.0</td>\n",
       "    </tr>\n",
       "    <tr>\n",
       "      <th>Moroccan</th>\n",
       "      <td>4.258333</td>\n",
       "      <td>12.0</td>\n",
       "    </tr>\n",
       "    <tr>\n",
       "      <th>Sushi</th>\n",
       "      <td>4.206087</td>\n",
       "      <td>115.0</td>\n",
       "    </tr>\n",
       "    <tr>\n",
       "      <th>Greek</th>\n",
       "      <td>4.159091</td>\n",
       "      <td>22.0</td>\n",
       "    </tr>\n",
       "    <tr>\n",
       "      <th>Mediterranean</th>\n",
       "      <td>4.130275</td>\n",
       "      <td>327.0</td>\n",
       "    </tr>\n",
       "  </tbody>\n",
       "</table>\n",
       "</div>"
      ],
      "text/plain": [
       "                   Mean  Total\n",
       "Egyptian       4.416667    6.0\n",
       "PokÃ©          4.350000   12.0\n",
       "Fusion         4.350000    2.0\n",
       "International  4.300000    1.0\n",
       "Tex-Mex        4.293939   33.0\n",
       "Singaporean    4.287500   16.0\n",
       "Moroccan       4.258333   12.0\n",
       "Sushi          4.206087  115.0\n",
       "Greek          4.159091   22.0\n",
       "Mediterranean  4.130275  327.0"
      ]
     },
     "execution_count": 406,
     "metadata": {},
     "output_type": "execute_result"
    }
   ],
   "source": [
    "c_and_r[[\"Mean\",\"Total\"]].sort_values(by=\"Mean\", ascending=False)[:10]"
   ]
  },
  {
   "cell_type": "markdown",
   "id": "c3bf8c5b-056f-490b-8500-5af378ab675d",
   "metadata": {},
   "source": [
    "- We can ignore a few cuisines in this list since they are available in less number. But the overall conclusion which can be drawn is that International (and rarely available) cuisines are rated higher than local cuisines.\n",
    "\n",
    "### Highlights/Features of restaurants\n",
    "### Unique highlights"
   ]
  },
  {
   "cell_type": "code",
   "execution_count": 408,
   "id": "66310784-f2cc-4633-a45b-753e7add43b1",
   "metadata": {},
   "outputs": [
    {
     "name": "stdout",
     "output_type": "stream",
     "text": [
      "Total number of unique cuisines =  104\n"
     ]
    }
   ],
   "source": [
    "print(\"Total number of unique cuisines = \", hl.nunique())"
   ]
  },
  {
   "cell_type": "markdown",
   "id": "a6e65fe4-5fb9-4fe3-80f2-b6d20757b14d",
   "metadata": {},
   "source": [
    "### Number of restaurants (by highlights)\n"
   ]
  },
  {
   "cell_type": "code",
   "execution_count": 410,
   "id": "7cbb84f9-8538-4aac-b772-ff0a4caa4d6e",
   "metadata": {},
   "outputs": [
    {
     "data": {
      "image/png": "[encoded data removed]",
      "text/plain": [
       "<Figure size 1000x600 with 1 Axes>"
      ]
     },
     "metadata": {},
     "output_type": "display_data"
    }
   ],
   "source": [
    "h_count = hl.value_counts()[:5]\n",
    "\n",
    "fig = plt.figure(figsize=[10,6], frameon=False)\n",
    "ax = fig.gca()\n",
    "ax.spines[\"top\"].set_visible(False)\n",
    "ax.spines[\"right\"].set_visible(False)\n",
    "ax.spines[\"left\"].set_color(\"#424242\")\n",
    "ax.spines[\"bottom\"].set_color(\"#424242\")\n",
    "\n",
    "#colors = [\"green\",\"blue\",\"magenta\",\"cyan\",\"gray\",\"yellow\",\"purple\",\"violet\",\"orange\",\"red\",\"maroon\"]\n",
    "#random.shuffle(colors)\n",
    "colors = ['#11174b', '#2a5599', '#3e94c0', '#78c6d0', '#dcecc9']\n",
    "plt.bar(h_count.index, h_count.values, color=colors)\n",
    "\n",
    "plt.xticks(range(0, 6), color=\"#424242\")\n",
    "plt.yticks(range(0, 70000, 10000), color=\"#424242\")\n",
    "plt.xlabel(\"Top 5 highlights\")\n",
    "\n",
    "for i, v in enumerate(h_count):\n",
    "    ax.text(i-0.2, v+500, str(v), color='#424242')\n",
    "plt.title(\"Number of restaurants (by highlights)\")\n",
    "\n",
    "\n",
    "plt.show()"
   ]
  },
  {
   "cell_type": "markdown",
   "id": "d824b27b-702e-4a7d-9aaa-8eec46fbfd50",
   "metadata": {},
   "source": [
    "- Top 5 highlights doesn't convey much information since they are very trivial to almost every restaurant. Let's look at uncommon highlights that matter more to the customers.\n",
    "\n",
    "### Highest rated highlights\n"
   ]
  },
  {
   "cell_type": "code",
   "execution_count": 412,
   "id": "55e5aecb-bdef-4877-b3fa-3979117a72d6",
   "metadata": {},
   "outputs": [
    {
     "data": {
      "text/plain": [
       "\"['Lunch', 'Takeaway Available', 'Credit Card', 'Dinner', 'Cash', 'Air Conditioned', 'Indoor Seating', 'Pure Veg']\""
      ]
     },
     "execution_count": 412,
     "metadata": {},
     "output_type": "execute_result"
    }
   ],
   "source": [
    "data[\"highlights\"][0]"
   ]
  },
  {
   "cell_type": "code",
   "execution_count": 413,
   "id": "7d7eed48-c634-441a-9e04-597cf1bfd2c1",
   "metadata": {},
   "outputs": [],
   "source": [
    "data[\"highlights2\"] = data['highlights'].apply(lambda x : x[2:-2].split(\"', '\"))\n",
    "\n",
    "hl_list = hl.unique().tolist()\n",
    "zeros = np.zeros(shape=(len(hl_list),2))\n",
    "h_and_r = pd.DataFrame(zeros, index=hl_list, columns=[\"Sum\",\"Total\"])"
   ]
  },
  {
   "cell_type": "code",
   "execution_count": 414,
   "id": "7cd580c3-5e65-4005-bddb-b652a00f07b9",
   "metadata": {},
   "outputs": [],
   "source": [
    "for i, x in data.iterrows():\n",
    "    for j in x[\"highlights2\"]:\n",
    "        h_and_r.loc[j][\"Sum\"] += x[\"aggregate_rating\"]  \n",
    "        h_and_r.loc[j][\"Total\"] += 1"
   ]
  },
  {
   "cell_type": "code",
   "execution_count": 415,
   "id": "3b293259-eb56-4c3a-885c-025bab1e2dc8",
   "metadata": {},
   "outputs": [
    {
     "data": {
      "text/html": [
       "<div>\n",
       "<style scoped>\n",
       "    .dataframe tbody tr th:only-of-type {\n",
       "        vertical-align: middle;\n",
       "    }\n",
       "\n",
       "    .dataframe tbody tr th {\n",
       "        vertical-align: top;\n",
       "    }\n",
       "\n",
       "    .dataframe thead th {\n",
       "        text-align: right;\n",
       "    }\n",
       "</style>\n",
       "<table border=\"1\" class=\"dataframe\">\n",
       "  <thead>\n",
       "    <tr style=\"text-align: right;\">\n",
       "      <th></th>\n",
       "      <th>Sum</th>\n",
       "      <th>Total</th>\n",
       "      <th>Mean</th>\n",
       "    </tr>\n",
       "  </thead>\n",
       "  <tbody>\n",
       "    <tr>\n",
       "      <th>Lunch</th>\n",
       "      <td>113340.8</td>\n",
       "      <td>36043.0</td>\n",
       "      <td>3.144600</td>\n",
       "    </tr>\n",
       "    <tr>\n",
       "      <th>Takeaway Available</th>\n",
       "      <td>139848.5</td>\n",
       "      <td>46773.0</td>\n",
       "      <td>2.989941</td>\n",
       "    </tr>\n",
       "    <tr>\n",
       "      <th>Credit Card</th>\n",
       "      <td>94107.2</td>\n",
       "      <td>27530.0</td>\n",
       "      <td>3.418351</td>\n",
       "    </tr>\n",
       "    <tr>\n",
       "      <th>Dinner</th>\n",
       "      <td>118364.5</td>\n",
       "      <td>37643.0</td>\n",
       "      <td>3.144396</td>\n",
       "    </tr>\n",
       "    <tr>\n",
       "      <th>Cash</th>\n",
       "      <td>157862.8</td>\n",
       "      <td>52825.0</td>\n",
       "      <td>2.988411</td>\n",
       "    </tr>\n",
       "    <tr>\n",
       "      <th>...</th>\n",
       "      <td>...</td>\n",
       "      <td>...</td>\n",
       "      <td>...</td>\n",
       "    </tr>\n",
       "    <tr>\n",
       "      <th>Celebrity Frequented</th>\n",
       "      <td>90.1</td>\n",
       "      <td>22.0</td>\n",
       "      <td>4.095455</td>\n",
       "    </tr>\n",
       "    <tr>\n",
       "      <th>Alipay Accepted</th>\n",
       "      <td>3.0</td>\n",
       "      <td>1.0</td>\n",
       "      <td>3.000000</td>\n",
       "    </tr>\n",
       "    <tr>\n",
       "      <th>Subscription Available</th>\n",
       "      <td>4.1</td>\n",
       "      <td>1.0</td>\n",
       "      <td>4.100000</td>\n",
       "    </tr>\n",
       "    <tr>\n",
       "      <th>Subscription Required</th>\n",
       "      <td>4.5</td>\n",
       "      <td>1.0</td>\n",
       "      <td>4.500000</td>\n",
       "    </tr>\n",
       "    <tr>\n",
       "      <th>Bira 91 Beer</th>\n",
       "      <td>8.0</td>\n",
       "      <td>2.0</td>\n",
       "      <td>4.000000</td>\n",
       "    </tr>\n",
       "  </tbody>\n",
       "</table>\n",
       "<p>104 rows × 3 columns</p>\n",
       "</div>"
      ],
      "text/plain": [
       "                             Sum    Total      Mean\n",
       "Lunch                   113340.8  36043.0  3.144600\n",
       "Takeaway Available      139848.5  46773.0  2.989941\n",
       "Credit Card              94107.2  27530.0  3.418351\n",
       "Dinner                  118364.5  37643.0  3.144396\n",
       "Cash                    157862.8  52825.0  2.988411\n",
       "...                          ...      ...       ...\n",
       "Celebrity Frequented        90.1     22.0  4.095455\n",
       "Alipay Accepted              3.0      1.0  3.000000\n",
       "Subscription Available       4.1      1.0  4.100000\n",
       "Subscription Required        4.5      1.0  4.500000\n",
       "Bira 91 Beer                 8.0      2.0  4.000000\n",
       "\n",
       "[104 rows x 3 columns]"
      ]
     },
     "execution_count": 415,
     "metadata": {},
     "output_type": "execute_result"
    }
   ],
   "source": [
    "h_and_r[\"Mean\"] = h_and_r[\"Sum\"] / h_and_r[\"Total\"]\n",
    "h_and_r"
   ]
  },
  {
   "cell_type": "code",
   "execution_count": 416,
   "id": "6b1535a6-c51d-4150-b3cc-ed35898fb636",
   "metadata": {},
   "outputs": [
    {
     "data": {
      "text/html": [
       "<div>\n",
       "<style scoped>\n",
       "    .dataframe tbody tr th:only-of-type {\n",
       "        vertical-align: middle;\n",
       "    }\n",
       "\n",
       "    .dataframe tbody tr th {\n",
       "        vertical-align: top;\n",
       "    }\n",
       "\n",
       "    .dataframe thead th {\n",
       "        text-align: right;\n",
       "    }\n",
       "</style>\n",
       "<table border=\"1\" class=\"dataframe\">\n",
       "  <thead>\n",
       "    <tr style=\"text-align: right;\">\n",
       "      <th></th>\n",
       "      <th>Mean</th>\n",
       "      <th>Total</th>\n",
       "    </tr>\n",
       "  </thead>\n",
       "  <tbody>\n",
       "    <tr>\n",
       "      <th>Subscription Required</th>\n",
       "      <td>4.500000</td>\n",
       "      <td>1.0</td>\n",
       "    </tr>\n",
       "    <tr>\n",
       "      <th>Speakeasy</th>\n",
       "      <td>4.300000</td>\n",
       "      <td>3.0</td>\n",
       "    </tr>\n",
       "    <tr>\n",
       "      <th>Gastro Pub</th>\n",
       "      <td>4.198551</td>\n",
       "      <td>69.0</td>\n",
       "    </tr>\n",
       "    <tr>\n",
       "      <th>Craft Beer</th>\n",
       "      <td>4.197297</td>\n",
       "      <td>148.0</td>\n",
       "    </tr>\n",
       "    <tr>\n",
       "      <th>Romantic Dining</th>\n",
       "      <td>4.162416</td>\n",
       "      <td>149.0</td>\n",
       "    </tr>\n",
       "    <tr>\n",
       "      <th>Sneakpeek</th>\n",
       "      <td>4.128316</td>\n",
       "      <td>392.0</td>\n",
       "    </tr>\n",
       "    <tr>\n",
       "      <th>Subscription Available</th>\n",
       "      <td>4.100000</td>\n",
       "      <td>1.0</td>\n",
       "    </tr>\n",
       "    <tr>\n",
       "      <th>Celebrity Frequented</th>\n",
       "      <td>4.095455</td>\n",
       "      <td>22.0</td>\n",
       "    </tr>\n",
       "    <tr>\n",
       "      <th>Keto Options</th>\n",
       "      <td>4.049153</td>\n",
       "      <td>59.0</td>\n",
       "    </tr>\n",
       "    <tr>\n",
       "      <th>Pet Friendly</th>\n",
       "      <td>4.017576</td>\n",
       "      <td>165.0</td>\n",
       "    </tr>\n",
       "  </tbody>\n",
       "</table>\n",
       "</div>"
      ],
      "text/plain": [
       "                            Mean  Total\n",
       "Subscription Required   4.500000    1.0\n",
       "Speakeasy               4.300000    3.0\n",
       "Gastro Pub              4.198551   69.0\n",
       "Craft Beer              4.197297  148.0\n",
       "Romantic Dining         4.162416  149.0\n",
       "Sneakpeek               4.128316  392.0\n",
       "Subscription Available  4.100000    1.0\n",
       "Celebrity Frequented    4.095455   22.0\n",
       "Keto Options            4.049153   59.0\n",
       "Pet Friendly            4.017576  165.0"
      ]
     },
     "execution_count": 416,
     "metadata": {},
     "output_type": "execute_result"
    }
   ],
   "source": [
    "h_and_r[[\"Mean\",\"Total\"]].sort_values(by=\"Mean\", ascending=False)[:10]"
   ]
  },
  {
   "cell_type": "markdown",
   "id": "a10e4359-09ac-48db-8d78-a584bebbc5f3",
   "metadata": {},
   "source": [
    "- We can safely ignore highlights which have a frequency of less than 10 since they can be considered as outliers. Features like Gastro pub, Craft beer, Romantic dining and Sneakpeek are well received among customers.\n",
    "\n",
    "### Highlights wordcloud\n",
    "\n",
    "\n"
   ]
  },
  {
   "cell_type": "code",
   "execution_count": null,
   "id": "c4e80f01-d97c-4960-88b5-a7a32db93a58",
   "metadata": {},
   "outputs": [],
   "source": []
  },
  {
   "cell_type": "markdown",
   "id": "380fe4a9-aff6-4819-9e2d-6ec4aa30f925",
   "metadata": {},
   "source": [
    "### Ratings and cost\n",
    "### Ratings distribution\n",
    "- Let's see how the ratings are distributes\n",
    "\n"
   ]
  },
  {
   "cell_type": "code",
   "execution_count": 454,
   "id": "c56fb992-7639-4b20-817a-ee1176be2ec8",
   "metadata": {},
   "outputs": [
    {
     "name": "stderr",
     "output_type": "stream",
     "text": [
      "C:\\Users\\likhitha\\AppData\\Local\\Temp\\ipykernel_8564\\2259594370.py:1: FutureWarning: \n",
      "\n",
      "`shade` is now deprecated in favor of `fill`; setting `fill=True`.\n",
      "This will become an error in seaborn v0.14.0; please update your code.\n",
      "\n",
      "  sns.kdeplot(data['aggregate_rating'], shade=True)\n",
      "D:\\Users\\likhitha\\anaconda3\\Lib\\site-packages\\seaborn\\_oldcore.py:1119: FutureWarning: use_inf_as_na option is deprecated and will be removed in a future version. Convert inf values to NaN before operating instead.\n",
      "  with pd.option_context('mode.use_inf_as_na', True):\n"
     ]
    },
    {
     "data": {
      "image/png": "[encoded data removed]",
      "text/plain": [
       "<Figure size 640x480 with 1 Axes>"
      ]
     },
     "metadata": {},
     "output_type": "display_data"
    }
   ],
   "source": [
    "sns.kdeplot(data['aggregate_rating'], shade=True)\n",
    "plt.title(\"Ratings distribution\")\n",
    "plt.show()"
   ]
  },
  {
   "cell_type": "markdown",
   "id": "f7e286ae-e471-4e33-8ee0-1a02c8c7b14a",
   "metadata": {},
   "source": [
    "- There is a huge spike at 0 which might account for newly opened or unrated restaurants. On average, majority of restaurants have rating between 3 to 4 with fewer restaurants managing to go beyond 4.\n",
    "\n",
    "### Avergae cost for two distribution\n"
   ]
  },
  {
   "cell_type": "code",
   "execution_count": 429,
   "id": "ecdefd6e-63ac-402f-b9c2-1eea3f1bd142",
   "metadata": {},
   "outputs": [
    {
     "name": "stderr",
     "output_type": "stream",
     "text": [
      "C:\\Users\\likhitha\\AppData\\Local\\Temp\\ipykernel_8564\\3483524634.py:1: FutureWarning: \n",
      "\n",
      "`shade` is now deprecated in favor of `fill`; setting `fill=True`.\n",
      "This will become an error in seaborn v0.14.0; please update your code.\n",
      "\n",
      "  sns.kdeplot(data['average_cost_for_two'], shade=True)\n",
      "D:\\Users\\likhitha\\anaconda3\\Lib\\site-packages\\seaborn\\_oldcore.py:1119: FutureWarning: use_inf_as_na option is deprecated and will be removed in a future version. Convert inf values to NaN before operating instead.\n",
      "  with pd.option_context('mode.use_inf_as_na', True):\n"
     ]
    },
    {
     "data": {
      "image/png": "[encoded data removed]",
      "text/plain": [
       "<Figure size 640x480 with 1 Axes>"
      ]
     },
     "metadata": {},
     "output_type": "display_data"
    }
   ],
   "source": [
    "sns.kdeplot(data['average_cost_for_two'], shade=True)\n",
    "plt.title(\"Average cost for 2 distribution\")\n",
    "plt.show()"
   ]
  },
  {
   "cell_type": "markdown",
   "id": "b5bcc573-c323-4e7c-a6e9-4a4b2959d8d2",
   "metadata": {},
   "source": [
    "- With few restaurants charging average of Rs.25000+ for two, this graph is extremely skewed. Let's take a closer look at a lower range of 0 to 60000.\n",
    "\n"
   ]
  },
  {
   "cell_type": "code",
   "execution_count": 432,
   "id": "22f586fc-9aa8-4448-8b7c-64741892fbb0",
   "metadata": {},
   "outputs": [
    {
     "name": "stderr",
     "output_type": "stream",
     "text": [
      "C:\\Users\\likhitha\\AppData\\Local\\Temp\\ipykernel_8564\\1606474467.py:1: FutureWarning: \n",
      "\n",
      "`shade` is now deprecated in favor of `fill`; setting `fill=True`.\n",
      "This will become an error in seaborn v0.14.0; please update your code.\n",
      "\n",
      "  sns.kdeplot(data['average_cost_for_two'], shade=True)\n",
      "D:\\Users\\likhitha\\anaconda3\\Lib\\site-packages\\seaborn\\_oldcore.py:1119: FutureWarning: use_inf_as_na option is deprecated and will be removed in a future version. Convert inf values to NaN before operating instead.\n",
      "  with pd.option_context('mode.use_inf_as_na', True):\n"
     ]
    },
    {
     "data": {
      "image/png": "[encoded data removed]",
      "text/plain": [
       "<Figure size 640x480 with 1 Axes>"
      ]
     },
     "metadata": {},
     "output_type": "display_data"
    }
   ],
   "source": [
    "sns.kdeplot(data['average_cost_for_two'], shade=True)\n",
    "plt.xlim([0, 6000])\n",
    "plt.xticks(range(0,6000,500))\n",
    "plt.title(\"Average cost for 2 distribution\")\n",
    "plt.show()"
   ]
  },
  {
   "cell_type": "markdown",
   "id": "795996c6-fdc1-445b-aa5e-f723c86d4215",
   "metadata": {},
   "source": [
    "- Majority of restaurants are budget friendly with an average cost between Rs.250 to Rs.800 for two.\n",
    "\n",
    "### Price range count\n"
   ]
  },
  {
   "cell_type": "code",
   "execution_count": 435,
   "id": "500499de-4e77-4f2a-8d27-6cac5cfbc343",
   "metadata": {},
   "outputs": [
    {
     "data": {
      "image/png": "[encoded data removed]",
      "text/plain": [
       "<Figure size 800x500 with 1 Axes>"
      ]
     },
     "metadata": {},
     "output_type": "display_data"
    }
   ],
   "source": [
    "pr_count = data.groupby(\"price_range\").count()[\"name\"]\n",
    "\n",
    "fig = plt.figure(figsize=[8,5], frameon=False)\n",
    "ax = fig.gca()\n",
    "ax.spines[\"top\"].set_visible(False)\n",
    "ax.spines[\"right\"].set_visible(False)\n",
    "ax.spines[\"left\"].set_color(\"#424242\")\n",
    "ax.spines[\"bottom\"].set_color(\"#424242\")\n",
    "\n",
    "#colors = [\"green\",\"blue\",\"magenta\",\"cyan\",\"gray\",\"yellow\",\"purple\",\"violet\",\"orange\",\"red\",\"maroon\"]\n",
    "#random.shuffle(colors)\n",
    "colors = [\"#2d0f41\",'#933291',\"#f2a49f\",\"#f9cdac\"]\n",
    "plt.bar(pr_count.index, pr_count.values, color=colors)\n",
    "\n",
    "plt.xticks(range(0, 5), color=\"#424242\")\n",
    "plt.yticks(range(0, 40000, 5000), color=\"#424242\")\n",
    "plt.xlabel(\"Price Ranges\")\n",
    "\n",
    "for i, v in enumerate(pr_count):\n",
    "    ax.text(i+0.85, v+700, str(v), color='#424242')\n",
    "plt.title(\"Number of restaurants (by price ranges)\")\n",
    "\n",
    "\n",
    "plt.show()"
   ]
  },
  {
   "cell_type": "markdown",
   "id": "e9c5fcea-e216-4503-af59-73c522401df3",
   "metadata": {},
   "source": [
    "- Price range chart supports our previous observation from the Average cost chart. Number of restaurant decreases with increase in price range.\n",
    "\n",
    "### Relation between Average price for two and Rating\n"
   ]
  },
  {
   "cell_type": "code",
   "execution_count": 438,
   "id": "ebbd4ec0-06ce-435b-b80b-4d97a4ba0ae9",
   "metadata": {},
   "outputs": [
    {
     "name": "stderr",
     "output_type": "stream",
     "text": [
      "C:\\Users\\likhitha\\AppData\\Local\\Temp\\ipykernel_8564\\2753989930.py:1: FutureWarning: Series.__getitem__ treating keys as positions is deprecated. In a future version, integer keys will always be treated as labels (consistent with DataFrame behavior). To access a value by position, use `ser.iloc[pos]`\n",
      "  np.round(data[[\"average_cost_for_two\",\"aggregate_rating\"]].corr()[\"average_cost_for_two\"][1],2)\n"
     ]
    },
    {
     "data": {
      "text/plain": [
       "0.25"
      ]
     },
     "execution_count": 438,
     "metadata": {},
     "output_type": "execute_result"
    }
   ],
   "source": [
    "np.round(data[[\"average_cost_for_two\",\"aggregate_rating\"]].corr()[\"average_cost_for_two\"][1],2)"
   ]
  },
  {
   "cell_type": "code",
   "execution_count": 440,
   "id": "56063fcd-699f-4387-a707-257cafe72205",
   "metadata": {},
   "outputs": [
    {
     "ename": "SyntaxError",
     "evalue": "invalid syntax (793102323.py, line 1)",
     "output_type": "error",
     "traceback": [
      "\u001b[1;36m  Cell \u001b[1;32mIn[440], line 1\u001b[1;36m\u001b[0m\n\u001b[1;33m    A correlation can be seen between restaurant average cost and rating\u001b[0m\n\u001b[1;37m      ^\u001b[0m\n\u001b[1;31mSyntaxError\u001b[0m\u001b[1;31m:\u001b[0m invalid syntax\n"
     ]
    }
   ],
   "source": [
    "A correlation can be seen between restaurant average cost and rating"
   ]
  },
  {
   "cell_type": "code",
   "execution_count": 442,
   "id": "883d75eb-6ea8-4de9-9e74-c1d75a57332e",
   "metadata": {},
   "outputs": [
    {
     "data": {
      "image/png": "[encoded data removed]",
      "text/plain": [
       "<Figure size 640x480 with 1 Axes>"
      ]
     },
     "metadata": {},
     "output_type": "display_data"
    }
   ],
   "source": [
    "plt.plot(\"average_cost_for_two\",\"aggregate_rating\", data=data, linestyle=\"none\", marker=\"o\")\n",
    "plt.xlim([0,6000])\n",
    "plt.title(\"Relationship between Average cost and Rating\")\n",
    "plt.xlabel(\"Average cost for two\")\n",
    "plt.ylabel(\"Ratings\")\n",
    "plt.show()"
   ]
  },
  {
   "cell_type": "markdown",
   "id": "858c014d-c3a2-4bfb-8f57-2276159a4932",
   "metadata": {},
   "source": [
    "- There is definetely a direct relation between the two. Let's take a smaller sample to draw a clearer scatter plot.\n",
    "\n"
   ]
  },
  {
   "cell_type": "code",
   "execution_count": 445,
   "id": "6ef41c22-c508-47b3-8566-23249fd4e663",
   "metadata": {},
   "outputs": [
    {
     "data": {
      "image/png": "[encoded data removed]",
      "text/plain": [
       "<Figure size 640x480 with 1 Axes>"
      ]
     },
     "metadata": {},
     "output_type": "display_data"
    }
   ],
   "source": [
    "plt.plot(\"average_cost_for_two\",\"aggregate_rating\", data=data.sample(1000), linestyle=\"none\", marker=\"o\")\n",
    "plt.xlim([0,3000])\n",
    "plt.show()"
   ]
  },
  {
   "cell_type": "markdown",
   "id": "5b3de3ac-87ae-464d-b0fc-dd05ff45a168",
   "metadata": {},
   "source": [
    "- This relation concludes that that as average cost for two increases, there is a better chance that the restaurant will be rated highly. Let's look at price range for a better comparison.\n",
    "\n",
    "### Relation between Price range and Rating"
   ]
  },
  {
   "cell_type": "code",
   "execution_count": 448,
   "id": "08a74298-833c-44bb-bc20-e7113bd90317",
   "metadata": {},
   "outputs": [
    {
     "name": "stderr",
     "output_type": "stream",
     "text": [
      "C:\\Users\\likhitha\\AppData\\Local\\Temp\\ipykernel_8564\\3032599960.py:1: FutureWarning: Series.__getitem__ treating keys as positions is deprecated. In a future version, integer keys will always be treated as labels (consistent with DataFrame behavior). To access a value by position, use `ser.iloc[pos]`\n",
      "  np.round(data[[\"price_range\",\"aggregate_rating\"]].corr()[\"price_range\"][1],2)\n"
     ]
    },
    {
     "data": {
      "text/plain": [
       "0.25"
      ]
     },
     "execution_count": 448,
     "metadata": {},
     "output_type": "execute_result"
    }
   ],
   "source": [
    "np.round(data[[\"price_range\",\"aggregate_rating\"]].corr()[\"price_range\"][1],2)"
   ]
  },
  {
   "cell_type": "code",
   "execution_count": 450,
   "id": "3025e7af-fdbf-45c8-a79c-a44dd4618121",
   "metadata": {},
   "outputs": [
    {
     "data": {
      "image/png": "[encoded data removed]",
      "text/plain": [
       "<Figure size 640x480 with 1 Axes>"
      ]
     },
     "metadata": {},
     "output_type": "display_data"
    }
   ],
   "source": [
    "sns.boxplot(x='price_range', y='aggregate_rating', data=data)\n",
    "plt.ylim(1)\n",
    "plt.title(\"Relationship between Price range and Ratings\")\n",
    "plt.show()"
   ]
  },
  {
   "cell_type": "markdown",
   "id": "f619637c-373f-4678-b5b1-b25e1996a65d",
   "metadata": {},
   "source": [
    "- Now, it is clear. The higher the price a restaurant charges, more services they provide and hence more chances of getting good ratings from their customers."
   ]
  },
  {
   "cell_type": "markdown",
   "id": "0484c3dd-7dee-4709-8054-3a5918207a14",
   "metadata": {},
   "source": [
    "## Conclusions\n",
    "* After working on this data, we can conclude the following things:-\n",
    "\n",
    "1. Approx. 35% of restaurants in India are part of some chain\n",
    "2. Domino's Pizza, Cafe Coffee Day, KFC are the biggest fast food chains in the country with most number of outlets\n",
    "3. Barbecues and Grill food chains have highest average ratings than other type of restaurants\n",
    "4. Quick bites and casual dining type of establishment have most number of outlets\n",
    "5. Establishments with alcohol availability have highest average ratings, votes and photo uploads\n",
    "6. Banglore has most number of restaurants\n",
    "7. Gurgaon has highest rated restaurants (average 3.83) whereas Hyderabad has more number of critics (votes). Mumbai and New Delhi dominates for most photo uploads per outlet\n",
    "8. After North Indian, Chinese is the most prefered cuisine in India\n",
    "9. International cuisines are better rated than local cuisines\n",
    "10. Gastro pub, Romantic Dining and Craft Beer features are well rated by customers\n",
    "11. Most restaurants are rated between 3 and 4\n",
    "12. Majority of restaurants are budget friendly with average cost of two between Rs.250 to Rs.800\n",
    "13. There are less number of restaurants at higher price ranges\n",
    "14. As the average cost of two increases, the chance of a restaurant having higher rating increases\n",
    "- Now we have come to the end of this project.\n",
    "\n"
   ]
  },
  {
   "cell_type": "code",
   "execution_count": null,
   "id": "857aeeb5-2dd6-40fe-b56e-8ceec5d700e5",
   "metadata": {},
   "outputs": [],
   "source": [
    "data.to_csv(\"zomato_final.csv\")"
   ]
  },
  {
   "cell_type": "code",
   "execution_count": null,
   "id": "77ffeaff-6a0c-41ca-86a4-e404c6a96ed5",
   "metadata": {},
   "outputs": [],
   "source": []
  }
 ],
 "metadata": {
  "kernelspec": {
   "display_name": "Python 3 (ipykernel)",
   "language": "python",
   "name": "python3"
  },
  "language_info": {
   "codemirror_mode": {
    "name": "ipython",
    "version": 3
   },
   "file_extension": ".py",
   "mimetype": "text/x-python",
   "name": "python",
   "nbconvert_exporter": "python",
   "pygments_lexer": "ipython3",
   "version": "3.11.7"
  }
 },
 "nbformat": 4,
 "nbformat_minor": 5
}
